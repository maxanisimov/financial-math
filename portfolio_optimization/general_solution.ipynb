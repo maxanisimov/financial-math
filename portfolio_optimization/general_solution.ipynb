{
 "cells": [
  {
   "attachments": {},
   "cell_type": "markdown",
   "metadata": {},
   "source": [
    "### Imports"
   ]
  },
  {
   "cell_type": "code",
   "execution_count": 1,
   "metadata": {},
   "outputs": [],
   "source": [
    "import numpy\n",
    "import pandas\n",
    "import matplotlib.pyplot as plt\n",
    "import seaborn as sns\n",
    "\n",
    "sns.set_style('whitegrid')\n",
    "\n",
    "numpy.random.seed(2023)"
   ]
  },
  {
   "attachments": {},
   "cell_type": "markdown",
   "metadata": {},
   "source": [
    "### Data Simulation\n",
    "Let us simulate the following data for $n=100$ assets:\n",
    "- vector of expected returns $\\mu$\n",
    "- covariance matrix $\\Sigma$\n",
    "\n",
    "Also, define the following:\n",
    "- Risk aversion $\\gamma = 2$\n",
    "- Cost aversion $\\kappa = 1.5$\n",
    "- Cost matrix is an identity matrix multiplied by 0.1\n",
    "- Previous weights are just equal weights so that they sum up to 1"
   ]
  },
  {
   "cell_type": "code",
   "execution_count": 2,
   "metadata": {},
   "outputs": [],
   "source": [
    "n = 100\n",
    "\n",
    "mu = numpy.random.uniform(-1, 1, n)\n",
    "Sigma = numpy.random.randn(n, n)\n",
    "Sigma = Sigma.T.dot(Sigma)\n",
    "gamma = 2\n",
    "\n",
    "kappa = 1.5\n",
    "Cost_matrix = numpy.diag(n*[0.1])\n",
    "prev_weights = numpy.ones_like(mu) / len(mu)"
   ]
  },
  {
   "attachments": {},
   "cell_type": "markdown",
   "metadata": {},
   "source": [
    "### Function for the general portfolio optimization solution"
   ]
  },
  {
   "cell_type": "code",
   "execution_count": 3,
   "metadata": {},
   "outputs": [],
   "source": [
    "def calculate_optimal_portfolio(\n",
    "    mu: numpy.ndarray, Sigma: numpy.ndarray, gamma: float,\n",
    "    weights_sum: float,\n",
    "    prev_weights: numpy.ndarray = None, C: numpy.ndarray = None, kappa: float = None,\n",
    ") -> numpy.ndarray:\n",
    "    \"\"\"\n",
    "    Solve a general portfolio optimization problem with quadratic transaction costs\n",
    "    and return an optimal allocation.\n",
    "\n",
    "    :param mu: expected returns\n",
    "    :param Sigma: covariance matrix of returns\n",
    "    :param gamma: risk aversion\n",
    "    :param weights_sum: required sum of weights\n",
    "    :param prev_weights: weights right before optimization\n",
    "    :param C: cost matrix\n",
    "    :param kappa: cost aversion\n",
    "    :returns: optimal allocation\n",
    "    \"\"\"\n",
    "    assert gamma != 0\n",
    "\n",
    "    if kappa is None or kappa == 0:\n",
    "        kappa = 0\n",
    "        C = numpy.zeros_like(Sigma)\n",
    "        prev_weights = numpy.zeros_like(mu) # can be whatever in this case\n",
    "    elif C is None:\n",
    "        kappa = 0\n",
    "        C = numpy.zeros_like(Sigma)\n",
    "\n",
    "    assert len(mu) == len(prev_weights) == Sigma.shape[0] == Sigma.shape[1] == C.shape[0] == C.shape[1]\n",
    "\n",
    "\n",
    "    mu_tilde = calculate_mu_tilde(mu=mu, kappa=kappa, Sigma=Sigma, prev_weights=prev_weights)\n",
    "    Sigma_tilde = calculate_sigma_tilde(Sigma=Sigma, kappa=kappa, gamma=gamma, C=C)\n",
    "\n",
    "    unit_vector = numpy.ones_like(mu)\n",
    "    Sigma_tilde_inv = numpy.linalg.inv(Sigma_tilde)\n",
    "    A_tilde = unit_vector.T @ Sigma_tilde_inv @ unit_vector\n",
    "    B_tilde = mu_tilde.T @ Sigma_tilde_inv @ unit_vector\n",
    "\n",
    "    w_gmv_tilde = 1/A_tilde * Sigma_tilde_inv @ unit_vector\n",
    "    wb_tilde    = 1/B_tilde * Sigma_tilde_inv @ mu_tilde\n",
    "\n",
    "    optimal_w = B_tilde / gamma * wb_tilde + (gamma * weights_sum - B_tilde) / gamma * w_gmv_tilde\n",
    "\n",
    "    return optimal_w\n",
    "\n",
    "\n",
    "def calculate_mu_tilde(mu: numpy.ndarray, kappa: float, Sigma: numpy.ndarray, prev_weights: numpy.ndarray):\n",
    "    return mu + kappa * Sigma @ prev_weights\n",
    "\n",
    "def calculate_sigma_tilde(Sigma: numpy.ndarray, kappa: float, gamma: float, C: numpy.ndarray):\n",
    "    return Sigma + kappa/gamma * C"
   ]
  },
  {
   "cell_type": "code",
   "execution_count": 4,
   "metadata": {},
   "outputs": [
    {
     "data": {
      "text/plain": [
       "array([-0.28655002,  0.04775148, -0.73192009,  1.0522255 , -0.41180108,\n",
       "       -0.31184928, -0.01681196, -1.1272075 , -0.18603517,  0.54959631])"
      ]
     },
     "execution_count": 4,
     "metadata": {},
     "output_type": "execute_result"
    }
   ],
   "source": [
    "w_star = calculate_optimal_portfolio(\n",
    "    mu=mu, Sigma=Sigma, gamma=gamma,\n",
    "    prev_weights=prev_weights, C=Cost_matrix, kappa=kappa,\n",
    "    weights_sum=1\n",
    ")\n",
    "w_star[:10]"
   ]
  },
  {
   "attachments": {},
   "cell_type": "markdown",
   "metadata": {},
   "source": [
    "### Tests\n",
    "Now we will test our general solution by comparing its solution to those for special cases."
   ]
  },
  {
   "cell_type": "code",
   "execution_count": 5,
   "metadata": {},
   "outputs": [],
   "source": [
    "def calculate_gmv_portfolio(Sigma: numpy.ndarray) -> numpy.ndarray:\n",
    "    unit_vector = numpy.ones_like(Sigma[0, :])\n",
    "    Sigma_inv = numpy.linalg.inv(Sigma)\n",
    "    A = unit_vector.T @ Sigma_inv @ unit_vector\n",
    "\n",
    "    return 1/A * Sigma_inv @ unit_vector\n",
    "\n",
    "def calculate_unconstrained_scaled_portfolio(mu: numpy.ndarray, Sigma: numpy.ndarray) -> numpy.ndarray:\n",
    "    unit_vector = numpy.ones_like(mu)\n",
    "    Sigma_inv = numpy.linalg.inv(Sigma)\n",
    "    B = mu.T @ Sigma_inv @ unit_vector\n",
    "    return 1/B * Sigma_inv @ mu"
   ]
  },
  {
   "attachments": {},
   "cell_type": "markdown",
   "metadata": {},
   "source": [
    "#### 1. UCS test\n",
    "Compare our general solution function wit that for the unconstrained scaled portfolio"
   ]
  },
  {
   "cell_type": "code",
   "execution_count": 10,
   "metadata": {},
   "outputs": [],
   "source": [
    "w_ucs = calculate_unconstrained_scaled_portfolio(mu=mu, Sigma=Sigma)"
   ]
  },
  {
   "cell_type": "code",
   "execution_count": 11,
   "metadata": {},
   "outputs": [],
   "source": [
    "unit_vector = numpy.ones_like(mu)\n",
    "Sigma_inv = numpy.linalg.inv(Sigma)\n",
    "B = mu.T @ Sigma_inv @ unit_vector\n",
    "\n",
    "w_ucs_star = calculate_optimal_portfolio(\n",
    "    mu=mu, Sigma=Sigma, \n",
    "    gamma=B, # <- implied gamma for the UCS solution\n",
    "    kappa=0, # <- no transaction costs\n",
    "    weights_sum=1\n",
    ")"
   ]
  },
  {
   "cell_type": "code",
   "execution_count": 12,
   "metadata": {},
   "outputs": [
    {
     "data": {
      "text/plain": [
       "0.0"
      ]
     },
     "execution_count": 12,
     "metadata": {},
     "output_type": "execute_result"
    }
   ],
   "source": [
    "numpy.abs(w_ucs - w_ucs_star).max()"
   ]
  },
  {
   "attachments": {},
   "cell_type": "markdown",
   "metadata": {},
   "source": [
    "#### 2. Constrained + unit sum test\n",
    "Now, compare the general solution to that for when we constrain the sum of weights to be 1."
   ]
  },
  {
   "cell_type": "code",
   "execution_count": 13,
   "metadata": {},
   "outputs": [],
   "source": [
    "def calculate_constrained_portfolio(\n",
    "    mu: numpy.ndarray, Sigma: numpy.ndarray, gamma: float, weights_sum: numpy.ndarray\n",
    ") -> numpy.ndarray:\n",
    "\n",
    "    unit_vector = numpy.ones_like(mu)\n",
    "    Sigma_inv = numpy.linalg.inv(Sigma)\n",
    "\n",
    "    A = unit_vector.T @ Sigma_inv @ unit_vector\n",
    "    B = mu.T @ Sigma_inv @ unit_vector\n",
    "\n",
    "    w_gmv = 1/A * Sigma_inv @ unit_vector\n",
    "    wb = 1/B * Sigma_inv @ mu\n",
    "\n",
    "    return B/gamma * wb + (gamma*weights_sum - B)/gamma * w_gmv"
   ]
  },
  {
   "cell_type": "code",
   "execution_count": 14,
   "metadata": {},
   "outputs": [],
   "source": [
    "for ws in numpy.linspace(-1, 1, 100):\n",
    "\n",
    "    wc = calculate_constrained_portfolio(\n",
    "        mu=mu, Sigma=Sigma, gamma=gamma,\n",
    "        weights_sum=ws # <--\n",
    "    )\n",
    "\n",
    "    wc_optimal = calculate_optimal_portfolio(\n",
    "        mu=mu, Sigma=Sigma, gamma=gamma,\n",
    "        weights_sum=ws, # <--\n",
    "    )\n",
    "\n",
    "    assert numpy.abs(wc - wc_optimal).max() == 0"
   ]
  },
  {
   "attachments": {},
   "cell_type": "markdown",
   "metadata": {},
   "source": [
    "### Plots"
   ]
  },
  {
   "cell_type": "code",
   "execution_count": 15,
   "metadata": {},
   "outputs": [],
   "source": [
    "mu_tilde = calculate_mu_tilde(mu=mu, kappa=kappa, Sigma=Sigma, prev_weights=prev_weights)"
   ]
  },
  {
   "cell_type": "code",
   "execution_count": 16,
   "metadata": {},
   "outputs": [
    {
     "data": {
      "image/png": "[encoded data removed]",
      "text/plain": [
       "<Figure size 640x480 with 1 Axes>"
      ]
     },
     "metadata": {},
     "output_type": "display_data"
    }
   ],
   "source": [
    "pandas.DataFrame(\n",
    "    {\n",
    "        'mu': mu[:10],\n",
    "        'mu_tilde': mu_tilde[:10]\n",
    "    }\n",
    ").plot(kind='bar')\n",
    "\n",
    "plt.tight_layout();"
   ]
  },
  {
   "cell_type": "code",
   "execution_count": 17,
   "metadata": {},
   "outputs": [
    {
     "data": {
      "text/plain": [
       "(68, 33)"
      ]
     },
     "execution_count": 17,
     "metadata": {},
     "output_type": "execute_result"
    }
   ],
   "source": [
    "numpy.argmax(mu), numpy.argmax(mu_tilde)"
   ]
  },
  {
   "cell_type": "code",
   "execution_count": 18,
   "metadata": {},
   "outputs": [
    {
     "data": {
      "text/plain": [
       "(85, 40)"
      ]
     },
     "execution_count": 18,
     "metadata": {},
     "output_type": "execute_result"
    }
   ],
   "source": [
    "numpy.argmin(mu), numpy.argmin(mu_tilde)"
   ]
  },
  {
   "cell_type": "code",
   "execution_count": 19,
   "metadata": {},
   "outputs": [
    {
     "data": {
      "text/plain": [
       "1.613039353789456"
      ]
     },
     "execution_count": 19,
     "metadata": {},
     "output_type": "execute_result"
    }
   ],
   "source": [
    "numpy.abs(mu - mu_tilde).mean() # average absolute change in mu"
   ]
  },
  {
   "cell_type": "code",
   "execution_count": 20,
   "metadata": {},
   "outputs": [],
   "source": [
    "Sigma_tilde = calculate_sigma_tilde(Sigma=Sigma, gamma=gamma, kappa=kappa, C=Cost_matrix)\n",
    "Sigma_tilde_diagonal = numpy.diag(Sigma_tilde)\n",
    "\n",
    "Sigma_diagonal = numpy.diag(Sigma)"
   ]
  },
  {
   "cell_type": "code",
   "execution_count": 21,
   "metadata": {},
   "outputs": [
    {
     "data": {
      "image/png": "[encoded data removed]",
      "text/plain": [
       "<Figure size 640x480 with 1 Axes>"
      ]
     },
     "metadata": {},
     "output_type": "display_data"
    }
   ],
   "source": [
    "pandas.DataFrame(\n",
    "    {\n",
    "        'Sigma_diagonal': Sigma_diagonal[:10],\n",
    "        'Sigma_tilde_diagonal': Sigma_tilde_diagonal[:10]\n",
    "    }\n",
    ").plot(kind='bar')\n",
    "\n",
    "plt.tight_layout();"
   ]
  },
  {
   "attachments": {},
   "cell_type": "markdown",
   "metadata": {},
   "source": [
    "### Tests with cvxpy"
   ]
  },
  {
   "cell_type": "code",
   "execution_count": 22,
   "metadata": {},
   "outputs": [],
   "source": [
    "import cvxpy as cp"
   ]
  },
  {
   "attachments": {},
   "cell_type": "markdown",
   "metadata": {},
   "source": [
    "##### Unconstrained optimization"
   ]
  },
  {
   "cell_type": "code",
   "execution_count": 23,
   "metadata": {},
   "outputs": [
    {
     "name": "stdout",
     "output_type": "stream",
     "text": [
      "Status: optimal\n"
     ]
    }
   ],
   "source": [
    "w_cp = cp.Variable(n)\n",
    "gamma_cp = cp.Parameter(nonneg=True)\n",
    "ret = w_cp.T @ mu\n",
    "risk = cp.quad_form(w_cp, Sigma) # w.T @ Sigma @ w\n",
    "prob = cp.Problem(\n",
    "    objective=cp.Maximize(ret - gamma/2 * risk),\n",
    "    # constraints=[cp.sum(w_cp) == 1]\n",
    ")\n",
    "\n",
    "gamma_cp.value = gamma\n",
    "prob.solve()\n",
    "\n",
    "print(f'Status: {prob.solution.status}')\n",
    "# print(f'Optimal allocation:', w_cp.value)"
   ]
  },
  {
   "cell_type": "code",
   "execution_count": 24,
   "metadata": {},
   "outputs": [],
   "source": [
    "w_unconstrained = 1/gamma * numpy.linalg.inv(Sigma) @ mu\n",
    "assert numpy.abs(w_unconstrained - w_cp.value).max() < 1e-6"
   ]
  },
  {
   "attachments": {},
   "cell_type": "markdown",
   "metadata": {},
   "source": [
    "##### Constrained optimization"
   ]
  },
  {
   "cell_type": "code",
   "execution_count": 25,
   "metadata": {},
   "outputs": [
    {
     "name": "stdout",
     "output_type": "stream",
     "text": [
      "Sum of weights = -1.0\n",
      "CVXPY status: optimal\n",
      "--------------------------------------------------\n",
      "Sum of weights = -0.8947368421052632\n",
      "CVXPY status: optimal\n",
      "--------------------------------------------------\n",
      "Sum of weights = -0.7894736842105263\n",
      "CVXPY status: optimal\n",
      "--------------------------------------------------\n",
      "Sum of weights = -0.6842105263157895\n",
      "CVXPY status: optimal\n",
      "--------------------------------------------------\n",
      "Sum of weights = -0.5789473684210527\n",
      "CVXPY status: optimal\n",
      "--------------------------------------------------\n",
      "Sum of weights = -0.4736842105263158\n",
      "CVXPY status: optimal\n",
      "--------------------------------------------------\n",
      "Sum of weights = -0.368421052631579\n",
      "CVXPY status: optimal\n",
      "--------------------------------------------------\n",
      "Sum of weights = -0.26315789473684215\n",
      "CVXPY status: optimal\n",
      "--------------------------------------------------\n",
      "Sum of weights = -0.1578947368421053\n",
      "CVXPY status: optimal\n",
      "--------------------------------------------------\n",
      "Sum of weights = -0.052631578947368474\n",
      "CVXPY status: optimal\n",
      "--------------------------------------------------\n",
      "Sum of weights = 0.05263157894736836\n",
      "CVXPY status: optimal\n",
      "--------------------------------------------------\n",
      "Sum of weights = 0.1578947368421053\n",
      "CVXPY status: optimal\n",
      "--------------------------------------------------\n",
      "Sum of weights = 0.26315789473684204\n",
      "CVXPY status: optimal\n",
      "--------------------------------------------------\n",
      "Sum of weights = 0.36842105263157876\n",
      "CVXPY status: optimal\n",
      "--------------------------------------------------\n",
      "Sum of weights = 0.4736842105263157\n",
      "CVXPY status: optimal\n",
      "--------------------------------------------------\n",
      "Sum of weights = 0.5789473684210527\n",
      "CVXPY status: optimal\n",
      "--------------------------------------------------\n",
      "Sum of weights = 0.6842105263157894\n",
      "CVXPY status: optimal\n",
      "--------------------------------------------------\n",
      "Sum of weights = 0.7894736842105261\n",
      "CVXPY status: optimal\n",
      "--------------------------------------------------\n",
      "Sum of weights = 0.894736842105263\n",
      "CVXPY status: optimal\n",
      "--------------------------------------------------\n",
      "Sum of weights = 1.0\n",
      "CVXPY status: optimal\n",
      "--------------------------------------------------\n"
     ]
    }
   ],
   "source": [
    "constrained_opt_test_results = {}\n",
    "\n",
    "for weights_sum in numpy.linspace(-1, 1, 20):\n",
    "    print(f'Sum of weights = {weights_sum}')\n",
    "    constrained_opt_test_results[weights_sum] = {}\n",
    "\n",
    "    ### Closed-form solution\n",
    "    w_constrained = calculate_constrained_portfolio(\n",
    "        mu=mu, Sigma=Sigma, gamma=gamma, weights_sum=weights_sum\n",
    "    )\n",
    "    constrained_opt_test_results[weights_sum]['closed-form solution'] = w_constrained\n",
    "\n",
    "    ### CVXPY solution\n",
    "    w_cp = cp.Variable(n)\n",
    "    gamma_cp = cp.Parameter(nonneg=True)\n",
    "    ret = w_cp.T @ mu\n",
    "    risk = cp.quad_form(w_cp, Sigma) # w.T @ Sigma @ w\n",
    "    prob = cp.Problem(\n",
    "        objective=cp.Maximize(ret - gamma/2 * risk),\n",
    "        constraints=[cp.sum(w_cp) == weights_sum]\n",
    "    )\n",
    "    gamma_cp.value = gamma\n",
    "    prob.solve()\n",
    "    print(f'CVXPY status: {prob.solution.status}')\n",
    "    # print(f'Optimal allocation:', w_cp.value)\n",
    "    constrained_opt_test_results[weights_sum]['CVXPY solution'] = w_cp.value\n",
    "\n",
    "    constrained_opt_test_results[weights_sum]['allocation diff'] = w_constrained - w_cp.value\n",
    "    constrained_opt_test_results[weights_sum]['max absolute diff'] = numpy.abs(\n",
    "        constrained_opt_test_results[weights_sum]['allocation diff']\n",
    "    ).max()\n",
    "    assert constrained_opt_test_results[weights_sum]['max absolute diff'] < 1e-6\n",
    "    \n",
    "    print(50*'-')"
   ]
  },
  {
   "cell_type": "code",
   "execution_count": 26,
   "metadata": {},
   "outputs": [
    {
     "data": {
      "image/png": "[encoded data removed]",
      "text/plain": [
       "<Figure size 640x480 with 1 Axes>"
      ]
     },
     "metadata": {},
     "output_type": "display_data"
    }
   ],
   "source": [
    "pandas.DataFrame(\n",
    "    {\n",
    "        'Closed-form': w_constrained[:10],\n",
    "        'CVXPY': w_cp.value[:10]\n",
    "    }\n",
    ").plot(kind='bar')\n",
    "\n",
    "plt.tight_layout();"
   ]
  },
  {
   "attachments": {},
   "cell_type": "markdown",
   "metadata": {},
   "source": [
    "#### TODO Constrained with transaction costs"
   ]
  },
  {
   "cell_type": "code",
   "execution_count": 27,
   "metadata": {},
   "outputs": [],
   "source": [
    "w_optimal = calculate_optimal_portfolio(\n",
    "    mu=mu, Sigma=Sigma, gamma=gamma, weights_sum=0,\n",
    "    prev_weights=prev_weights, C=Cost_matrix, kappa=kappa,\n",
    ")"
   ]
  },
  {
   "cell_type": "code",
   "execution_count": 28,
   "metadata": {},
   "outputs": [
    {
     "name": "stdout",
     "output_type": "stream",
     "text": [
      "===============================================================================\n",
      "                                     CVXPY                                     \n",
      "                                     v1.3.0                                    \n",
      "===============================================================================\n",
      "(CVXPY) Feb 22 01:07:15 AM: Your problem has 100 variables, 1 constraints, and 100 parameters.\n",
      "(CVXPY) Feb 22 01:07:16 AM: It is compliant with the following grammars: DCP, DQCP\n",
      "(CVXPY) Feb 22 01:07:16 AM: CVXPY will first compile your problem; then, it will invoke a numerical solver to obtain a solution.\n",
      "-------------------------------------------------------------------------------\n",
      "                                  Compilation                                  \n",
      "-------------------------------------------------------------------------------\n",
      "(CVXPY) Feb 22 01:07:16 AM: Compiling problem (target solver=OSQP).\n",
      "(CVXPY) Feb 22 01:07:16 AM: Reduction chain: FlipObjective -> CvxAttr2Constr -> Qp2SymbolicQp -> QpMatrixStuffing -> OSQP\n",
      "(CVXPY) Feb 22 01:07:16 AM: Applying reduction FlipObjective\n",
      "(CVXPY) Feb 22 01:07:16 AM: Applying reduction CvxAttr2Constr\n",
      "(CVXPY) Feb 22 01:07:16 AM: Applying reduction Qp2SymbolicQp\n",
      "(CVXPY) Feb 22 01:07:16 AM: Applying reduction QpMatrixStuffing\n",
      "(CVXPY) Feb 22 01:07:16 AM: Applying reduction OSQP\n",
      "(CVXPY) Feb 22 01:07:16 AM: Finished problem compilation (took 1.584e-01 seconds).\n",
      "(CVXPY) Feb 22 01:07:16 AM: (Subsequent compilations of this problem, using the same arguments, should take less time.)\n",
      "-------------------------------------------------------------------------------\n",
      "                                Numerical solver                               \n",
      "-------------------------------------------------------------------------------\n",
      "(CVXPY) Feb 22 01:07:16 AM: Invoking solver OSQP  to obtain a solution.\n",
      "-----------------------------------------------------------------\n",
      "           OSQP v0.6.2  -  Operator Splitting QP Solver\n",
      "              (c) Bartolomeo Stellato,  Goran Banjac\n",
      "        University of Oxford  -  Stanford University 2021\n",
      "-----------------------------------------------------------------\n",
      "problem:  variables n = 200, constraints m = 101\n",
      "          nnz(P) + nnz(A) = 5450\n",
      "settings: linear system solver = qdldl,\n",
      "          eps_abs = 1.0e-05, eps_rel = 1.0e-05,\n",
      "          eps_prim_inf = 1.0e-04, eps_dual_inf = 1.0e-04,\n",
      "          rho = 1.00e-01 (adaptive),\n",
      "          sigma = 1.00e-06, alpha = 1.60, max_iter = 10000\n",
      "          check_termination: on (interval 25),\n",
      "          scaling: on, scaled_termination: off\n",
      "          warm start: on, polish: on, time_limit: off\n",
      "\n",
      "iter   objective    pri res    dua res    rho        time\n",
      "   1  -1.7460e+00   1.00e+00   1.25e+04   1.00e-01   1.09e-03s\n",
      "  50  -2.5791e+00   5.50e-09   1.68e-07   1.94e-02   2.06e-03s\n",
      "plsh  -2.5791e+00   2.45e-15   7.72e-13   --------   2.63e-03s\n",
      "\n",
      "status:               solved\n",
      "solution polish:      successful\n",
      "number of iterations: 50\n",
      "optimal objective:    -2.5791\n",
      "run time:             2.63e-03s\n",
      "optimal rho estimate: 9.45e-03\n",
      "\n",
      "-------------------------------------------------------------------------------\n",
      "                                    Summary                                    \n",
      "-------------------------------------------------------------------------------\n",
      "(CVXPY) Feb 22 01:07:16 AM: Problem status: optimal\n",
      "(CVXPY) Feb 22 01:07:16 AM: Optimal value: 2.579e+00\n",
      "(CVXPY) Feb 22 01:07:16 AM: Compilation took 1.584e-01 seconds\n",
      "(CVXPY) Feb 22 01:07:16 AM: Solver (including time spent in interface) took 5.936e-03 seconds\n",
      "CVXPY status: optimal\n",
      "Optimal allocation: [-0.27131459  0.04045086 -0.76882417  1.04094014 -0.38435495 -0.25801622\n",
      " -0.00909551 -1.12140754 -0.19148062  0.61893471 -0.59690771  0.55596312\n",
      " -1.24936433 -0.20951149 -0.51545664 -0.00393018 -0.10134121 -0.3317943\n",
      "  0.20799024  0.13833208  0.0281832  -0.00416263 -0.48349264  0.04392814\n",
      " -0.70235652 -0.7239933  -0.1970542   0.53336219  0.01887883  0.73292282\n",
      "  0.22077991 -0.37433925 -0.14556528 -0.37992982 -0.06968197 -0.38524359\n",
      "  0.51848819  0.1729779   1.4779787  -0.49437482 -0.27817759 -0.40264101\n",
      "  0.09620942  0.18686688 -0.15650877  0.14440069 -0.00951547  0.23333564\n",
      "  0.39436486  0.67200954  0.53207578  0.55826006 -0.15831927 -0.16610442\n",
      " -0.10032325  0.5855745  -0.49102483 -0.58131307 -0.08119437 -0.20896803\n",
      "  0.95278846  0.32737302 -0.2813515  -0.44730473  0.6255725  -0.18767698\n",
      "  0.44288037 -0.59061354  0.19500747  1.62347907  0.18513116  0.08483369\n",
      "  0.26201129  0.36083681 -0.2900952  -0.33038824 -0.75815645 -0.47816968\n",
      "  0.98659213 -0.48822456 -0.85690192  0.08828669  0.37470817  0.41041093\n",
      "  0.08162859  0.58683343 -0.65096129 -0.81618501 -0.54414208  0.13442256\n",
      " -0.41627374  0.40582257  0.43884081  0.16627212  0.6209176  -0.00434072\n",
      " -0.20765562  0.660933    0.38177889  0.8049551 ]\n"
     ]
    }
   ],
   "source": [
    "### CVXPY solution\n",
    "w_cp = cp.Variable(n)\n",
    "\n",
    "gamma_cp = cp.Parameter(nonneg=True)\n",
    "kappa_cp = cp.Parameter(nonneg=True)\n",
    "prev_weights_cp = cp.Parameter(n)\n",
    "\n",
    "ret = w_cp.T @ mu\n",
    "risk = cp.quad_form(w_cp, Sigma) # w.T @ Sigma @ w\n",
    "turnover = w_cp - prev_weights_cp # cp.abs(w_cp - prev_weights_cp)\n",
    "cost = turnover.T @ Cost_matrix @ turnover # cp.quad_form(turnover, Cost_matrix)\n",
    "prob = cp.Problem(\n",
    "    objective=cp.Maximize(ret - gamma/2 * risk - kappa/2 * cost),\n",
    "    constraints=[cp.sum(w_cp) == weights_sum]\n",
    ")\n",
    "\n",
    "gamma_cp.value = gamma\n",
    "kappa_cp.value = kappa\n",
    "prev_weights_cp.value = prev_weights\n",
    "\n",
    "prob.solve(verbose=True)\n",
    "print(f'CVXPY status: {prob.solution.status}')\n",
    "print(f'Optimal allocation:', w_cp.value)"
   ]
  },
  {
   "cell_type": "code",
   "execution_count": 29,
   "metadata": {},
   "outputs": [
    {
     "data": {
      "text/plain": [
       "0.2101659312846979"
      ]
     },
     "execution_count": 29,
     "metadata": {},
     "output_type": "execute_result"
    }
   ],
   "source": [
    "numpy.abs(w_cp.value - w_optimal).max()"
   ]
  },
  {
   "cell_type": "code",
   "execution_count": 30,
   "metadata": {},
   "outputs": [
    {
     "data": {
      "image/png": "[encoded data removed]",
      "text/plain": [
       "<Figure size 640x480 with 1 Axes>"
      ]
     },
     "metadata": {},
     "output_type": "display_data"
    }
   ],
   "source": [
    "pandas.DataFrame(\n",
    "    {\n",
    "        'Closed-form': w_optimal[:10],\n",
    "        'CVXPY': w_cp.value[:10]\n",
    "    }\n",
    ").plot(kind='bar')\n",
    "\n",
    "plt.tight_layout();"
   ]
  },
  {
   "cell_type": "code",
   "execution_count": null,
   "metadata": {},
   "outputs": [],
   "source": []
  }
 ],
 "metadata": {
  "kernelspec": {
   "display_name": ".venv",
   "language": "python",
   "name": "python3"
  },
  "language_info": {
   "codemirror_mode": {
    "name": "ipython",
    "version": 3
   },
   "file_extension": ".py",
   "mimetype": "text/x-python",
   "name": "python",
   "nbconvert_exporter": "python",
   "pygments_lexer": "ipython3",
   "version": "3.11.0"
  },
  "orig_nbformat": 4,
  "vscode": {
   "interpreter": {
    "hash": "c987daa5422b2a59ae5f3a1cff0fb8a97f31c4497ae00d84bb36873856950388"
   }
  }
 },
 "nbformat": 4,
 "nbformat_minor": 2
}
