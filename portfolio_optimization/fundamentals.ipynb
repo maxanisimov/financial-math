{
 "cells": [
  {
   "attachments": {},
   "cell_type": "markdown",
   "metadata": {},
   "source": [
    "Options:\n",
    "\n",
    "1. Mimize portfolio variance / maximum expected return minus portfolio variance\n",
    "2. Sum of weights = 1 / Sum of weights = 0 / sum of weights is unconstrained\n",
    "3. There is no risk-free asset / there IS a risk-free asset\n",
    "4. No transaction costs / quadratic transaction costs / linear transaction costs"
   ]
  },
  {
   "cell_type": "code",
   "execution_count": 3,
   "metadata": {},
   "outputs": [],
   "source": [
    "import numpy\n",
    "import pandas\n",
    "import matplotlib.pyplot as plt\n",
    "import seaborn as sns\n",
    "\n",
    "sns.set_style('whitegrid')"
   ]
  },
  {
   "attachments": {},
   "cell_type": "markdown",
   "metadata": {},
   "source": [
    "## TOC\n",
    "1. [Introduction into investor's preferences](###Introduction)\n",
    "2. [Unconstrained optimization](###Unconstrained-optimization)\n",
    "3. [Global minimum variance portfolio](###Global-minimum-variance-portfolio)\n",
    "4. [Optimization when the sum of weights is equal to 1](###Optimization-when-sum-of-weights-is-equal-to-1)\n",
    "5. [Optimization with transaction costs](###Optimization-with-transaction-costs)\n",
    "6. [Optimization with risk-free asset](###Optimization-with-risk-free-asset) TODO"
   ]
  },
  {
   "attachments": {},
   "cell_type": "markdown",
   "metadata": {},
   "source": [
    "### Introduction"
   ]
  },
  {
   "attachments": {},
   "cell_type": "markdown",
   "metadata": {},
   "source": [
    "Well, okay. You want to invest in some stocks, maybe bonds (or crypto?) but you are stuck at the process of choosing how much of every asset to buy. You can pick some numbers that seem just fine for you, but since you are mathematically rigorous, you want your allocation be based on some optimization. So, how to do that?\n",
    "\n",
    "First of all, we need to figure our what we want to optimize with respect to asset allocation.\n",
    "Let us define $w \\in R^n$ as a vector of asset weights, i.e. asset allocation. If we observe returns $r$, than the return of our portfolio is $w^{T}r$, isn't it?\n",
    "\n",
    "Let us denote $r_p = w^{T}r$. We probably think that the more money we get, the happier we are. Hence, we want to maximize this thing! In reality, when making decision about weights, we do not know what returns will be actualized in the future. Hence, we may try to optimize the **expected** return of the portfolio:<br><br>\n",
    "$E[r_p] = E[w^{T}r] = w^{T}E[r] = w^{T}\\mu \\to max_{w}$<br><br>\n",
    "Well, okay, then if there is one asset with the highest expected return, the solution wll be to buy an infite amount of it, right? Does not makes sense and does not align with the reality of portfolio investments.\n",
    "\n",
    "If we think more about our preferences, we can conclude that we dislike volatility. All else being equal, would you prefer investing in an asset that brings $1 in all states of the world or an asset that brings $1 only on average? In finance and economics, we usually assume that people are risk averse, so they tend to prefer the former. Therefore, when choosing asset allocation, we should penalize its variance:<br><br>\n",
    "$Var(r_p) = Var(w^{T}r) = w^{T}[Var(r)]w = w^{T} \\Sigma w$<br>\n",
    "\n",
    "Well, nice, let's say that our utility function looks as follows:\n",
    "$U(w) = E(r_p) - Var(r_p)$<br>\n",
    "\n",
    "Now you can shout at me: what if I have two investors who have different risk tolerance? This is possible, right? And I would agree with you, thanks for pointing this out, dude. We can formalize this by multiplying the variance of portfolio by $\\frac{\\gamma}{2} > 0$, where $\\gamma$ measures risk aversion. If $\\gamma=0$, we do not care about volatility. As it goes to infinity, we care more and more about it.<br>\n",
    "\n",
    "$U(w) = E(r_p) - \\dfrac{\\gamma}{2} Var(r_p) = w^{T}\\mu - \\dfrac{\\gamma}{2} w^{T} \\Sigma w$<br>\n",
    "\n",
    "Nice stuff! So let's just optimize it?<br>\n",
    " "
   ]
  },
  {
   "attachments": {},
   "cell_type": "markdown",
   "metadata": {},
   "source": [
    "### Synthetic data\n",
    "Let us simulate data for expected returns $\\mu$ and covariance matrix of returns $\\Sigma$ to proceed with optimization examples. Let us also set $\\gamma = 2$."
   ]
  },
  {
   "cell_type": "code",
   "execution_count": 4,
   "metadata": {},
   "outputs": [],
   "source": [
    "import numpy\n",
    "numpy.random.seed(2023)\n",
    "\n",
    "n = 5\n",
    "\n",
    "mu = numpy.random.uniform(-1, 1, n)\n",
    "Sigma = numpy.random.randn(n, n)\n",
    "Sigma = Sigma.T.dot(Sigma)\n",
    "gamma = 2"
   ]
  },
  {
   "cell_type": "code",
   "execution_count": 5,
   "metadata": {},
   "outputs": [
    {
     "data": {
      "text/plain": [
       "0   -0.356023\n",
       "1    0.780845\n",
       "2    0.176105\n",
       "3   -0.746808\n",
       "4   -0.717318\n",
       "dtype: float64"
      ]
     },
     "execution_count": 5,
     "metadata": {},
     "output_type": "execute_result"
    }
   ],
   "source": [
    "pandas.Series(mu)"
   ]
  },
  {
   "cell_type": "code",
   "execution_count": 6,
   "metadata": {},
   "outputs": [
    {
     "data": {
      "text/html": [
       "<div>\n",
       "<style scoped>\n",
       "    .dataframe tbody tr th:only-of-type {\n",
       "        vertical-align: middle;\n",
       "    }\n",
       "\n",
       "    .dataframe tbody tr th {\n",
       "        vertical-align: top;\n",
       "    }\n",
       "\n",
       "    .dataframe thead th {\n",
       "        text-align: right;\n",
       "    }\n",
       "</style>\n",
       "<table border=\"1\" class=\"dataframe\">\n",
       "  <thead>\n",
       "    <tr style=\"text-align: right;\">\n",
       "      <th></th>\n",
       "      <th>0</th>\n",
       "      <th>1</th>\n",
       "      <th>2</th>\n",
       "      <th>3</th>\n",
       "      <th>4</th>\n",
       "    </tr>\n",
       "  </thead>\n",
       "  <tbody>\n",
       "    <tr>\n",
       "      <th>0</th>\n",
       "      <td>4.927933</td>\n",
       "      <td>-4.280763</td>\n",
       "      <td>0.749537</td>\n",
       "      <td>-0.283806</td>\n",
       "      <td>-1.083995</td>\n",
       "    </tr>\n",
       "    <tr>\n",
       "      <th>1</th>\n",
       "      <td>-4.280763</td>\n",
       "      <td>8.447121</td>\n",
       "      <td>1.410513</td>\n",
       "      <td>3.958052</td>\n",
       "      <td>2.277475</td>\n",
       "    </tr>\n",
       "    <tr>\n",
       "      <th>2</th>\n",
       "      <td>0.749537</td>\n",
       "      <td>1.410513</td>\n",
       "      <td>1.506218</td>\n",
       "      <td>2.583646</td>\n",
       "      <td>-0.211710</td>\n",
       "    </tr>\n",
       "    <tr>\n",
       "      <th>3</th>\n",
       "      <td>-0.283806</td>\n",
       "      <td>3.958052</td>\n",
       "      <td>2.583646</td>\n",
       "      <td>7.464284</td>\n",
       "      <td>-3.300409</td>\n",
       "    </tr>\n",
       "    <tr>\n",
       "      <th>4</th>\n",
       "      <td>-1.083995</td>\n",
       "      <td>2.277475</td>\n",
       "      <td>-0.211710</td>\n",
       "      <td>-3.300409</td>\n",
       "      <td>5.480581</td>\n",
       "    </tr>\n",
       "  </tbody>\n",
       "</table>\n",
       "</div>"
      ],
      "text/plain": [
       "          0         1         2         3         4\n",
       "0  4.927933 -4.280763  0.749537 -0.283806 -1.083995\n",
       "1 -4.280763  8.447121  1.410513  3.958052  2.277475\n",
       "2  0.749537  1.410513  1.506218  2.583646 -0.211710\n",
       "3 -0.283806  3.958052  2.583646  7.464284 -3.300409\n",
       "4 -1.083995  2.277475 -0.211710 -3.300409  5.480581"
      ]
     },
     "execution_count": 6,
     "metadata": {},
     "output_type": "execute_result"
    }
   ],
   "source": [
    "pandas.DataFrame(Sigma)"
   ]
  },
  {
   "attachments": {},
   "cell_type": "markdown",
   "metadata": {},
   "source": [
    "### Optimization 101\n",
    "Before we dig deep into optimization, let us consider two special cases:\n",
    "a) We care only about volatility and the sum of weights is 1;\n",
    "b) We care both about expected return and volatility but we do not constrain the sum of weights.\n",
    "\n",
    "Both are not very realistic but will help but develop some intuition and build a bridge to more realistic setups!"
   ]
  },
  {
   "attachments": {},
   "cell_type": "markdown",
   "metadata": {},
   "source": [
    "#### Unconstrained optimization\n",
    "\n",
    "$U(w) = E(r_p) - \\dfrac{\\gamma}{2} Var(r_p) = w^{T}\\mu - \\dfrac{\\gamma}{2} w^{T} \\Sigma w$<br>\n",
    "FOC: $\\dfrac{dU}{dw} = \\mu - \\gamma \\Sigma w = 0$<br><br>\n",
    "Simple rule of thumb when taking the multidimension derivatives: the dimension of the derivative must be equal to the dimension of the variable w.r.t. which you take the derivate ($w$ here!).\n",
    "\n",
    "$\\gamma \\Sigma w = \\mu$<br>\n",
    "$w_{UC} = \\dfrac{1}{\\gamma} \\Sigma^{-1} \\mu$\n",
    "\n",
    "Cool, have we reached the maximum?<br><br>\n",
    "$\\dfrac{d^2U}{dwdw^T} = - \\gamma \\Sigma$ is negative semi-definite, so yes!\n",
    "\n",
    "$w_{UC} = \\dfrac{1}{\\gamma} \\Sigma^{-1} \\mu$ has a couple of nice (intuitive!) interpretations:\n",
    "1. When your risk aversion goes to infinity, your portfolio allocation tends to a zero vector (invest in nothing!)\n",
    "2. Higher expected return $\\mu_i$ will have a positive effect on $w_i$\n",
    "3. The inverse of the covariance matrix scales weights according to asset variances and covariances. In fact, this matrix is called a precision matrix and its elements are conditional covariances! (We can cover that later)"
   ]
  },
  {
   "cell_type": "code",
   "execution_count": 7,
   "metadata": {},
   "outputs": [],
   "source": [
    "def uncostrained_optimal_allocation(mu: numpy.array, Sigma: numpy.array, gamma: float) -> numpy.array:\n",
    "    Sigma_inv = numpy.linalg.inv(Sigma)\n",
    "    return 1/gamma * Sigma_inv @ mu"
   ]
  },
  {
   "cell_type": "code",
   "execution_count": 8,
   "metadata": {},
   "outputs": [
    {
     "data": {
      "text/plain": [
       "array([  1.15593787,   7.48631187,  14.39985368, -13.65286469,\n",
       "       -10.61328526])"
      ]
     },
     "execution_count": 8,
     "metadata": {},
     "output_type": "execute_result"
    }
   ],
   "source": [
    "w_unconstrained = uncostrained_optimal_allocation(\n",
    "    mu=mu, Sigma=Sigma, gamma=gamma\n",
    ")\n",
    "w_unconstrained"
   ]
  },
  {
   "cell_type": "code",
   "execution_count": 9,
   "metadata": {},
   "outputs": [],
   "source": [
    "w_experiments = {}\n",
    "for gamma in numpy.linspace(0.05, 2, 100):\n",
    "    cur_w = uncostrained_optimal_allocation(\n",
    "        mu=mu, Sigma=Sigma, gamma=gamma\n",
    "    )\n",
    "    w_experiments[gamma] = cur_w"
   ]
  },
  {
   "cell_type": "code",
   "execution_count": 10,
   "metadata": {},
   "outputs": [
    {
     "data": {
      "image/png": "[encoded data removed]",
      "text/plain": [
       "<Figure size 640x480 with 1 Axes>"
      ]
     },
     "metadata": {},
     "output_type": "display_data"
    }
   ],
   "source": [
    "pandas.DataFrame(w_experiments).T.plot()\n",
    "plt.xlabel(r'$\\gamma$')\n",
    "plt.ylabel('Portfolio weight')\n",
    "plt.tight_layout();"
   ]
  },
  {
   "attachments": {},
   "cell_type": "markdown",
   "metadata": {},
   "source": [
    "#### Special case: two assets"
   ]
  },
  {
   "attachments": {},
   "cell_type": "markdown",
   "metadata": {},
   "source": [
    "$$\n",
    "\\mu = \\left(\\begin{array}{c} \n",
    "\\mu_1\\\\\n",
    "\\mu_2\n",
    "\\end{array}\\right)\n",
    "$$\n",
    "\n",
    "$$\n",
    "\\Sigma = \\left(\\begin{array}{cc} \n",
    "\\sigma^2_1 & \\sigma_{12}\\\\\n",
    "\\sigma_{12} & \\sigma^2_2\n",
    "\\end{array}\\right)\n",
    "$$"
   ]
  },
  {
   "attachments": {},
   "cell_type": "markdown",
   "metadata": {},
   "source": [
    "$$\n",
    "\\Sigma^{-1} = \\dfrac{1}{det(\\Sigma)} * \\left(\\begin{array}{cc} \n",
    "\\sigma^2_2 & -\\sigma_{12}\\\\\n",
    "-\\sigma_{12} & \\sigma^2_1\n",
    "\\end{array}\\right)\n",
    "$$\n",
    "$$det(\\Sigma) = \\sigma^2_1*\\sigma^2_2 -  \\sigma_{12}^2$$"
   ]
  },
  {
   "attachments": {},
   "cell_type": "markdown",
   "metadata": {},
   "source": [
    "$$\n",
    "\\Sigma^{-1}\\mu = \\dfrac{1}{det(\\Sigma)} * \\left(\\begin{array}{cc} \n",
    "\\sigma^2_2 & -\\sigma_{12}\\\\\n",
    "-\\sigma_{12} & \\sigma^2_1\n",
    "\\end{array}\\right) * \\left(\\begin{array}{c} \n",
    "\\mu_1\\\\\n",
    "\\mu_2\n",
    "\\end{array}\\right) = \\dfrac{1}{det(\\Sigma)} * \\left(\\begin{array}{c} \n",
    "\\sigma^2_{2}\\mu_1 - \\sigma_{12}\\mu_2\\\\\n",
    "\\sigma^2_{1}\\mu_2 - \\sigma_{12}\\mu_1 \\end{array}\\right)\n",
    "$$"
   ]
  },
  {
   "attachments": {},
   "cell_type": "markdown",
   "metadata": {},
   "source": [
    "$$\n",
    "\\Sigma^{-1}\\mu = \\left(\\begin{array}{c} \n",
    "\\dfrac{\\sigma^2_{2}\\mu_1 - \\sigma_{12}\\mu_2}{det(\\Sigma)}\\\\\n",
    "\\\\\n",
    "\\dfrac{\\sigma^2_{1}\\mu_2 - \\sigma_{12}\\mu_1}{det(\\Sigma)} \\end{array}\\right) = \\left(\\begin{array}{c} \n",
    "\\dfrac{\\mu_1\\sigma^2_{2} - \\mu_2\\sigma_{12}}{\\sigma^2_1\\sigma^2_2 -  \\sigma_{12}^2}\\\\\n",
    "\\\\\n",
    "\\dfrac{\\mu_2\\sigma^2_{1} - \\mu_1\\sigma_{12}}{\\sigma^2_1\\sigma^2_2 -  \\sigma_{12}^2} \\end{array}\\right)\n",
    "$$\n",
    "\n",
    "$$\n",
    "w_{UC} = \\dfrac{1}{\\gamma} \\Sigma^{-1} \\mu = \\dfrac{1}{\\gamma} \\left(\\begin{array}{c} \n",
    "\\dfrac{\\mu_1\\sigma^2_{2} - \\mu_2\\sigma_{12}}{\\sigma^2_1\\sigma^2_2 -  \\sigma_{12}^2}\\\\\n",
    "\\\\\n",
    "\\dfrac{\\mu_2\\sigma^2_{1} - \\mu_1\\sigma_{12}}{\\sigma^2_1\\sigma^2_2 -  \\sigma_{12}^2} \\end{array}\\right)\n",
    "$$"
   ]
  },
  {
   "attachments": {},
   "cell_type": "markdown",
   "metadata": {},
   "source": [
    "Special case: two uncorrelated assets ($\\sigma_{12} = 0$):\n",
    "\n",
    "$$\n",
    "w_{UC} = \\dfrac{1}{\\gamma} \\Sigma^{-1} \\mu = \\dfrac{1}{\\gamma} \\left(\\begin{array}{c} \n",
    "\\dfrac{\\mu_1\\sigma^2_{2}}{\\sigma^2_1\\sigma^2_2}\\\\\n",
    "\\\\\n",
    "\\dfrac{\\mu_2\\sigma^2_{1}}{\\sigma^2_1\\sigma^2_2} \\end{array}\\right)\n",
    "$$"
   ]
  },
  {
   "attachments": {},
   "cell_type": "markdown",
   "metadata": {},
   "source": [
    "$$\n",
    "w_{UC} = \\dfrac{1}{\\gamma} \\left(\\begin{array}{c} \n",
    "\\dfrac{\\mu_1}{\\sigma^2_1}\\\\\n",
    "\\\\\n",
    "\\dfrac{\\mu_2}{\\sigma^2_2} \\end{array}\\right)\n",
    "$$"
   ]
  },
  {
   "cell_type": "code",
   "execution_count": 11,
   "metadata": {},
   "outputs": [],
   "source": [
    "mu_2dim = mu[:2]\n",
    "Sigma_2dim = Sigma[:2, :2]\n",
    "Sigma_2dim = numpy.diag(numpy.diag(Sigma_2dim)) # set cov to 0"
   ]
  },
  {
   "cell_type": "code",
   "execution_count": 12,
   "metadata": {},
   "outputs": [
    {
     "data": {
      "text/plain": [
       "array([-0.036123  ,  0.04621959])"
      ]
     },
     "execution_count": 12,
     "metadata": {},
     "output_type": "execute_result"
    }
   ],
   "source": [
    "w_uc_2dim = uncostrained_optimal_allocation(mu=mu_2dim, Sigma=Sigma_2dim, gamma=gamma)\n",
    "\n",
    "assert w_uc_2dim[0] - 1/gamma * mu[0] / Sigma[0, 0] < 1e-6\n",
    "assert w_uc_2dim[1] - 1/gamma * mu[1] / Sigma[1, 1] < 1e-6\n",
    "\n",
    "w_uc_2dim"
   ]
  },
  {
   "cell_type": "code",
   "execution_count": 13,
   "metadata": {},
   "outputs": [
    {
     "data": {
      "image/png": "[encoded data removed]",
      "text/plain": [
       "<Figure size 640x480 with 1 Axes>"
      ]
     },
     "metadata": {},
     "output_type": "display_data"
    }
   ],
   "source": [
    "w_uc_exps = {}\n",
    "for mu1 in numpy.linspace(-0.2, 0.7, 1_000):\n",
    "    cur_mu = numpy.array([mu1, mu_2dim[1]])\n",
    "    w_uc_exps[mu1] = uncostrained_optimal_allocation(mu=cur_mu, Sigma=Sigma_2dim, gamma=gamma)\n",
    "\n",
    "w_uc_exps_df = pandas.DataFrame(w_uc_exps).T\n",
    "w_uc_exps_df.columns = [1, 2]\n",
    "\n",
    "w_uc_exps_df.plot()\n",
    "plt.xlabel('$\\mu_1$')\n",
    "plt.ylabel('Portfolio weight')\n",
    "plt.tight_layout();"
   ]
  },
  {
   "cell_type": "code",
   "execution_count": 14,
   "metadata": {},
   "outputs": [
    {
     "data": {
      "image/png": "[encoded data removed]",
      "text/plain": [
       "<Figure size 640x480 with 1 Axes>"
      ]
     },
     "metadata": {},
     "output_type": "display_data"
    }
   ],
   "source": [
    "w_uc_exps = {}\n",
    "for sigma1_squared in numpy.linspace(0.1, 10, 1_000):\n",
    "    cur_Sigma = Sigma_2dim.copy()\n",
    "    cur_Sigma[0, 0] = sigma1_squared\n",
    "    w_uc_exps[sigma1_squared] = uncostrained_optimal_allocation(mu=mu_2dim, Sigma=cur_Sigma, gamma=gamma)\n",
    "\n",
    "w_uc_exps_df = pandas.DataFrame(w_uc_exps).T\n",
    "w_uc_exps_df.columns = [1, 2]\n",
    "\n",
    "w_uc_exps_df.plot()\n",
    "plt.xlabel('$\\sigma_{1}^{2}$')\n",
    "plt.ylabel('Portfolio weight')\n",
    "plt.tight_layout();"
   ]
  },
  {
   "attachments": {},
   "cell_type": "markdown",
   "metadata": {},
   "source": [
    "### Scaled unconstrained optimum\n",
    "After receiving the optimal allocation, we can request the sum of weights to be equal to 1 (the sum is bounded). What do we get then?\n",
    "\n",
    "$w_B = \\dfrac{1}{{w^{T}_{UC}} \\tau}{w_{UC}} = \\dfrac{1}{\\frac{1}{\\gamma}\\mu^T\\Sigma^{-1}\\tau} * \\dfrac{1}{\\gamma}\\Sigma^{-1}\\mu = \\dfrac{1}{\\mu^T\\Sigma^{-1}\\tau} \\Sigma^{-1}\\mu$<br>\n",
    "\n",
    "The solution does not depend on $\\gamma$ anymore! Indeed, the risk aversion acts as a weight scaler. If we fix the sum of weights at a 1, we essentiall choose $\\gamma$ to be $\\mu^T\\Sigma^{-1}\\tau$ in advance.<br>\n",
    "Also, let us denote $B = \\mu^T\\Sigma^{-1}\\tau$."
   ]
  },
  {
   "cell_type": "code",
   "execution_count": 13,
   "metadata": {},
   "outputs": [],
   "source": [
    "def scaled_optimum(mu: numpy.array, Sigma: numpy.array) -> numpy.array:\n",
    "    unit = numpy.ones_like(mu)\n",
    "    Sigma_inv = numpy.linalg.inv(Sigma)\n",
    "\n",
    "    implied_gamma = mu.T @ Sigma_inv @ unit\n",
    "    \n",
    "    return 1 / implied_gamma * Sigma_inv @ mu"
   ]
  },
  {
   "attachments": {},
   "cell_type": "markdown",
   "metadata": {},
   "source": [
    "#### Global minimum variance portfolio\n",
    "\n",
    "Before we proceed with more sophisticated versions of mean-variance optimization, let us assume for a moment that\n",
    "1. I want to the sum of weights to be 1\n",
    "2. But I care only about the portfolio volatility, please minimize it!\n",
    "\n",
    "Ok, sure:\n",
    "\n",
    "\\begin{cases}\n",
    "\\begin{align*}\n",
    "U(w) = w^{T} \\Sigma w \\to min_{w} \\\\\n",
    "w^{T}\\tau = 1, \\text{where } \\tau \\text{ is a vector of ones} \\\\\n",
    "\\end{align*}\n",
    "\\end{cases}"
   ]
  },
  {
   "attachments": {},
   "cell_type": "markdown",
   "metadata": {},
   "source": [
    "$\\Lambda = w^{T}\\Sigma w - \\lambda(w^{T}\\tau - 1) \\to \\min_{w, \\lambda}$\n",
    "\n",
    "FOC:\n",
    "\\begin{cases}\n",
    "\\begin{align*}\n",
    "\\frac{d\\Lambda}{dw} = \\Sigma w - \\lambda \\tau = 0 \\\\\n",
    "\\frac{d\\Lambda}{d\\lambda} = w^{T} \\tau - 1 = 0 \\\\\n",
    "\\end{align*}\n",
    "\\end{cases}\n",
    "\n",
    "$\\Sigma w = \\lambda \\tau$<br>\n",
    "$w = \\lambda \\Sigma^{-1} \\tau$<br>\n",
    "\n",
    "$[ \\lambda \\Sigma^{-1} \\tau]^{T} \\tau - 1 = 0$<br><br>\n",
    "$\\lambda \\tau^T \\Sigma^{-1} \\tau = 1$<br><br>\n",
    "$\\lambda = \\dfrac{1}{\\tau^T \\Sigma^{-1} \\tau}$<br><br>\n",
    "\n",
    "People call such an optimal portfolio a Global Mimumum Variance portfolio:<br><br>\n",
    "$w_{\\text{GMV}} = \\dfrac{1}{\\tau^T \\Sigma^{-1} \\tau} \\Sigma^{-1} \\tau = \\dfrac{1}{A} \\Sigma^{-1} \\tau$<br>"
   ]
  },
  {
   "cell_type": "code",
   "execution_count": 15,
   "metadata": {},
   "outputs": [],
   "source": [
    "def global_minimum_variance_portfolio(Sigma: numpy.array) -> numpy.array:\n",
    "    unit = numpy.ones(Sigma.shape[0])\n",
    "    Sigma_inv = numpy.linalg.inv(Sigma)\n",
    "    A = unit.T @ Sigma_inv @ unit\n",
    "    w_gmv = 1/A * Sigma_inv @ unit\n",
    "\n",
    "    return w_gmv.reshape(-1, 1)"
   ]
  },
  {
   "cell_type": "code",
   "execution_count": 16,
   "metadata": {},
   "outputs": [
    {
     "data": {
      "text/html": [
       "<div>\n",
       "<style scoped>\n",
       "    .dataframe tbody tr th:only-of-type {\n",
       "        vertical-align: middle;\n",
       "    }\n",
       "\n",
       "    .dataframe tbody tr th {\n",
       "        vertical-align: top;\n",
       "    }\n",
       "\n",
       "    .dataframe thead th {\n",
       "        text-align: right;\n",
       "    }\n",
       "</style>\n",
       "<table border=\"1\" class=\"dataframe\">\n",
       "  <thead>\n",
       "    <tr style=\"text-align: right;\">\n",
       "      <th></th>\n",
       "      <th>0</th>\n",
       "      <th>1</th>\n",
       "      <th>2</th>\n",
       "      <th>3</th>\n",
       "      <th>4</th>\n",
       "    </tr>\n",
       "  </thead>\n",
       "  <tbody>\n",
       "    <tr>\n",
       "      <th>0</th>\n",
       "      <td>4.927933</td>\n",
       "      <td>-4.280763</td>\n",
       "      <td>0.749537</td>\n",
       "      <td>-0.283806</td>\n",
       "      <td>-1.083995</td>\n",
       "    </tr>\n",
       "    <tr>\n",
       "      <th>1</th>\n",
       "      <td>-4.280763</td>\n",
       "      <td>8.447121</td>\n",
       "      <td>1.410513</td>\n",
       "      <td>3.958052</td>\n",
       "      <td>2.277475</td>\n",
       "    </tr>\n",
       "    <tr>\n",
       "      <th>2</th>\n",
       "      <td>0.749537</td>\n",
       "      <td>1.410513</td>\n",
       "      <td>1.506218</td>\n",
       "      <td>2.583646</td>\n",
       "      <td>-0.211710</td>\n",
       "    </tr>\n",
       "    <tr>\n",
       "      <th>3</th>\n",
       "      <td>-0.283806</td>\n",
       "      <td>3.958052</td>\n",
       "      <td>2.583646</td>\n",
       "      <td>7.464284</td>\n",
       "      <td>-3.300409</td>\n",
       "    </tr>\n",
       "    <tr>\n",
       "      <th>4</th>\n",
       "      <td>-1.083995</td>\n",
       "      <td>2.277475</td>\n",
       "      <td>-0.211710</td>\n",
       "      <td>-3.300409</td>\n",
       "      <td>5.480581</td>\n",
       "    </tr>\n",
       "  </tbody>\n",
       "</table>\n",
       "</div>"
      ],
      "text/plain": [
       "          0         1         2         3         4\n",
       "0  4.927933 -4.280763  0.749537 -0.283806 -1.083995\n",
       "1 -4.280763  8.447121  1.410513  3.958052  2.277475\n",
       "2  0.749537  1.410513  1.506218  2.583646 -0.211710\n",
       "3 -0.283806  3.958052  2.583646  7.464284 -3.300409\n",
       "4 -1.083995  2.277475 -0.211710 -3.300409  5.480581"
      ]
     },
     "execution_count": 16,
     "metadata": {},
     "output_type": "execute_result"
    }
   ],
   "source": [
    "pandas.DataFrame(Sigma)"
   ]
  },
  {
   "cell_type": "code",
   "execution_count": 17,
   "metadata": {},
   "outputs": [
    {
     "data": {
      "text/html": [
       "<div>\n",
       "<style scoped>\n",
       "    .dataframe tbody tr th:only-of-type {\n",
       "        vertical-align: middle;\n",
       "    }\n",
       "\n",
       "    .dataframe tbody tr th {\n",
       "        vertical-align: top;\n",
       "    }\n",
       "\n",
       "    .dataframe thead th {\n",
       "        text-align: right;\n",
       "    }\n",
       "</style>\n",
       "<table border=\"1\" class=\"dataframe\">\n",
       "  <thead>\n",
       "    <tr style=\"text-align: right;\">\n",
       "      <th></th>\n",
       "      <th>0</th>\n",
       "    </tr>\n",
       "  </thead>\n",
       "  <tbody>\n",
       "    <tr>\n",
       "      <th>0</th>\n",
       "      <td>0.237176</td>\n",
       "    </tr>\n",
       "    <tr>\n",
       "      <th>1</th>\n",
       "      <td>-0.399154</td>\n",
       "    </tr>\n",
       "    <tr>\n",
       "      <th>2</th>\n",
       "      <td>-0.893028</td>\n",
       "    </tr>\n",
       "    <tr>\n",
       "      <th>3</th>\n",
       "      <td>1.075549</td>\n",
       "    </tr>\n",
       "    <tr>\n",
       "      <th>4</th>\n",
       "      <td>0.979457</td>\n",
       "    </tr>\n",
       "  </tbody>\n",
       "</table>\n",
       "</div>"
      ],
      "text/plain": [
       "          0\n",
       "0  0.237176\n",
       "1 -0.399154\n",
       "2 -0.893028\n",
       "3  1.075549\n",
       "4  0.979457"
      ]
     },
     "execution_count": 17,
     "metadata": {},
     "output_type": "execute_result"
    }
   ],
   "source": [
    "w_gmv = global_minimum_variance_portfolio(Sigma=Sigma)\n",
    "pandas.DataFrame(w_gmv)"
   ]
  },
  {
   "cell_type": "code",
   "execution_count": 18,
   "metadata": {},
   "outputs": [
    {
     "ename": "ValueError",
     "evalue": "Per-column arrays must each be 1-dimensional",
     "output_type": "error",
     "traceback": [
      "\u001b[0;31m---------------------------------------------------------------------------\u001b[0m",
      "\u001b[0;31mValueError\u001b[0m                                Traceback (most recent call last)",
      "Cell \u001b[0;32mIn [18], line 9\u001b[0m\n\u001b[1;32m      6\u001b[0m     cur_Sigma[\u001b[39m0\u001b[39m, \u001b[39m0\u001b[39m] \u001b[39m=\u001b[39m sigma_squared\n\u001b[1;32m      7\u001b[0m     w_gmv_var_effect[sigma_squared] \u001b[39m=\u001b[39m global_minimum_variance_portfolio(Sigma\u001b[39m=\u001b[39mcur_Sigma)\n\u001b[0;32m----> 9\u001b[0m w_gmv_var_effect_df \u001b[39m=\u001b[39m pandas\u001b[39m.\u001b[39;49mDataFrame(w_gmv_var_effect)\u001b[39m.\u001b[39mT\n\u001b[1;32m     10\u001b[0m w_gmv_var_effect_df\u001b[39m.\u001b[39mcolumns \u001b[39m=\u001b[39m [\u001b[39m*\u001b[39m\u001b[39mrange\u001b[39m(\u001b[39m1\u001b[39m, w_gmv_var_effect_df\u001b[39m.\u001b[39mshape[\u001b[39m1\u001b[39m]\u001b[39m+\u001b[39m\u001b[39m1\u001b[39m)]\n\u001b[1;32m     12\u001b[0m w_gmv_var_effect_df\u001b[39m.\u001b[39mplot()\n",
      "File \u001b[0;32m~/Desktop/GitHub/.venv/lib/python3.11/site-packages/pandas/core/frame.py:662\u001b[0m, in \u001b[0;36mDataFrame.__init__\u001b[0;34m(self, data, index, columns, dtype, copy)\u001b[0m\n\u001b[1;32m    656\u001b[0m     mgr \u001b[39m=\u001b[39m \u001b[39mself\u001b[39m\u001b[39m.\u001b[39m_init_mgr(\n\u001b[1;32m    657\u001b[0m         data, axes\u001b[39m=\u001b[39m{\u001b[39m\"\u001b[39m\u001b[39mindex\u001b[39m\u001b[39m\"\u001b[39m: index, \u001b[39m\"\u001b[39m\u001b[39mcolumns\u001b[39m\u001b[39m\"\u001b[39m: columns}, dtype\u001b[39m=\u001b[39mdtype, copy\u001b[39m=\u001b[39mcopy\n\u001b[1;32m    658\u001b[0m     )\n\u001b[1;32m    660\u001b[0m \u001b[39melif\u001b[39;00m \u001b[39misinstance\u001b[39m(data, \u001b[39mdict\u001b[39m):\n\u001b[1;32m    661\u001b[0m     \u001b[39m# GH#38939 de facto copy defaults to False only in non-dict cases\u001b[39;00m\n\u001b[0;32m--> 662\u001b[0m     mgr \u001b[39m=\u001b[39m dict_to_mgr(data, index, columns, dtype\u001b[39m=\u001b[39;49mdtype, copy\u001b[39m=\u001b[39;49mcopy, typ\u001b[39m=\u001b[39;49mmanager)\n\u001b[1;32m    663\u001b[0m \u001b[39melif\u001b[39;00m \u001b[39misinstance\u001b[39m(data, ma\u001b[39m.\u001b[39mMaskedArray):\n\u001b[1;32m    664\u001b[0m     \u001b[39mimport\u001b[39;00m \u001b[39mnumpy\u001b[39;00m\u001b[39m.\u001b[39;00m\u001b[39mma\u001b[39;00m\u001b[39m.\u001b[39;00m\u001b[39mmrecords\u001b[39;00m \u001b[39mas\u001b[39;00m \u001b[39mmrecords\u001b[39;00m\n",
      "File \u001b[0;32m~/Desktop/GitHub/.venv/lib/python3.11/site-packages/pandas/core/internals/construction.py:493\u001b[0m, in \u001b[0;36mdict_to_mgr\u001b[0;34m(data, index, columns, dtype, typ, copy)\u001b[0m\n\u001b[1;32m    489\u001b[0m     \u001b[39melse\u001b[39;00m:\n\u001b[1;32m    490\u001b[0m         \u001b[39m# dtype check to exclude e.g. range objects, scalars\u001b[39;00m\n\u001b[1;32m    491\u001b[0m         arrays \u001b[39m=\u001b[39m [x\u001b[39m.\u001b[39mcopy() \u001b[39mif\u001b[39;00m \u001b[39mhasattr\u001b[39m(x, \u001b[39m\"\u001b[39m\u001b[39mdtype\u001b[39m\u001b[39m\"\u001b[39m) \u001b[39melse\u001b[39;00m x \u001b[39mfor\u001b[39;00m x \u001b[39min\u001b[39;00m arrays]\n\u001b[0;32m--> 493\u001b[0m \u001b[39mreturn\u001b[39;00m arrays_to_mgr(arrays, columns, index, dtype\u001b[39m=\u001b[39;49mdtype, typ\u001b[39m=\u001b[39;49mtyp, consolidate\u001b[39m=\u001b[39;49mcopy)\n",
      "File \u001b[0;32m~/Desktop/GitHub/.venv/lib/python3.11/site-packages/pandas/core/internals/construction.py:118\u001b[0m, in \u001b[0;36marrays_to_mgr\u001b[0;34m(arrays, columns, index, dtype, verify_integrity, typ, consolidate)\u001b[0m\n\u001b[1;32m    115\u001b[0m \u001b[39mif\u001b[39;00m verify_integrity:\n\u001b[1;32m    116\u001b[0m     \u001b[39m# figure out the index, if necessary\u001b[39;00m\n\u001b[1;32m    117\u001b[0m     \u001b[39mif\u001b[39;00m index \u001b[39mis\u001b[39;00m \u001b[39mNone\u001b[39;00m:\n\u001b[0;32m--> 118\u001b[0m         index \u001b[39m=\u001b[39m _extract_index(arrays)\n\u001b[1;32m    119\u001b[0m     \u001b[39melse\u001b[39;00m:\n\u001b[1;32m    120\u001b[0m         index \u001b[39m=\u001b[39m ensure_index(index)\n",
      "File \u001b[0;32m~/Desktop/GitHub/.venv/lib/python3.11/site-packages/pandas/core/internals/construction.py:653\u001b[0m, in \u001b[0;36m_extract_index\u001b[0;34m(data)\u001b[0m\n\u001b[1;32m    651\u001b[0m         raw_lengths\u001b[39m.\u001b[39mappend(\u001b[39mlen\u001b[39m(val))\n\u001b[1;32m    652\u001b[0m     \u001b[39melif\u001b[39;00m \u001b[39misinstance\u001b[39m(val, np\u001b[39m.\u001b[39mndarray) \u001b[39mand\u001b[39;00m val\u001b[39m.\u001b[39mndim \u001b[39m>\u001b[39m \u001b[39m1\u001b[39m:\n\u001b[0;32m--> 653\u001b[0m         \u001b[39mraise\u001b[39;00m \u001b[39mValueError\u001b[39;00m(\u001b[39m\"\u001b[39m\u001b[39mPer-column arrays must each be 1-dimensional\u001b[39m\u001b[39m\"\u001b[39m)\n\u001b[1;32m    655\u001b[0m \u001b[39mif\u001b[39;00m \u001b[39mnot\u001b[39;00m indexes \u001b[39mand\u001b[39;00m \u001b[39mnot\u001b[39;00m raw_lengths:\n\u001b[1;32m    656\u001b[0m     \u001b[39mraise\u001b[39;00m \u001b[39mValueError\u001b[39;00m(\u001b[39m\"\u001b[39m\u001b[39mIf using all scalar values, you must pass an index\u001b[39m\u001b[39m\"\u001b[39m)\n",
      "\u001b[0;31mValueError\u001b[0m: Per-column arrays must each be 1-dimensional"
     ]
    }
   ],
   "source": [
    "# Effect of one variance being increased: \n",
    "# the corresponding abs weight decreases, other weights increase in magnitude.\n",
    "w_gmv_var_effect = {}\n",
    "for sigma_squared in numpy.linspace(Sigma[0, 0], 2*Sigma[0, 0], 1_000):\n",
    "    cur_Sigma = Sigma.copy()\n",
    "    cur_Sigma[0, 0] = sigma_squared\n",
    "    w_gmv_var_effect[sigma_squared] = global_minimum_variance_portfolio(Sigma=cur_Sigma)\n",
    "\n",
    "w_gmv_var_effect_df = pandas.DataFrame(w_gmv_var_effect).T\n",
    "w_gmv_var_effect_df.columns = [*range(1, w_gmv_var_effect_df.shape[1]+1)]\n",
    "\n",
    "w_gmv_var_effect_df.plot()\n",
    "plt.xlabel('$\\sigma_{1}^{2}$')\n",
    "plt.ylabel('Portfolio weight')\n",
    "plt.tight_layout();"
   ]
  },
  {
   "cell_type": "code",
   "execution_count": null,
   "metadata": {},
   "outputs": [],
   "source": [
    "# TODO: not sure you can just cange cov, perhaps should tweak variances too?"
   ]
  },
  {
   "cell_type": "code",
   "execution_count": 20,
   "metadata": {},
   "outputs": [
    {
     "ename": "ValueError",
     "evalue": "Per-column arrays must each be 1-dimensional",
     "output_type": "error",
     "traceback": [
      "\u001b[0;31m---------------------------------------------------------------------------\u001b[0m",
      "\u001b[0;31mValueError\u001b[0m                                Traceback (most recent call last)",
      "Cell \u001b[0;32mIn [20], line 9\u001b[0m\n\u001b[1;32m      6\u001b[0m     cur_Sigma[\u001b[39m1\u001b[39m, \u001b[39m0\u001b[39m] \u001b[39m=\u001b[39m cov\n\u001b[1;32m      7\u001b[0m     w_gmv_cov_effect[cov] \u001b[39m=\u001b[39m global_minimum_variance_portfolio(Sigma\u001b[39m=\u001b[39mcur_Sigma)\n\u001b[0;32m----> 9\u001b[0m w_gmv_cov_effect_df \u001b[39m=\u001b[39m pandas\u001b[39m.\u001b[39;49mDataFrame(w_gmv_cov_effect)\u001b[39m.\u001b[39mT\n\u001b[1;32m     10\u001b[0m w_gmv_cov_effect_df\u001b[39m.\u001b[39mcolumns \u001b[39m=\u001b[39m [\u001b[39m*\u001b[39m\u001b[39mrange\u001b[39m(\u001b[39m1\u001b[39m, w_gmv_cov_effect_df\u001b[39m.\u001b[39mshape[\u001b[39m1\u001b[39m]\u001b[39m+\u001b[39m\u001b[39m1\u001b[39m)]\n\u001b[1;32m     12\u001b[0m w_gmv_cov_effect_df\u001b[39m.\u001b[39mplot()\n",
      "File \u001b[0;32m~/Desktop/GitHub/.venv/lib/python3.11/site-packages/pandas/core/frame.py:662\u001b[0m, in \u001b[0;36mDataFrame.__init__\u001b[0;34m(self, data, index, columns, dtype, copy)\u001b[0m\n\u001b[1;32m    656\u001b[0m     mgr \u001b[39m=\u001b[39m \u001b[39mself\u001b[39m\u001b[39m.\u001b[39m_init_mgr(\n\u001b[1;32m    657\u001b[0m         data, axes\u001b[39m=\u001b[39m{\u001b[39m\"\u001b[39m\u001b[39mindex\u001b[39m\u001b[39m\"\u001b[39m: index, \u001b[39m\"\u001b[39m\u001b[39mcolumns\u001b[39m\u001b[39m\"\u001b[39m: columns}, dtype\u001b[39m=\u001b[39mdtype, copy\u001b[39m=\u001b[39mcopy\n\u001b[1;32m    658\u001b[0m     )\n\u001b[1;32m    660\u001b[0m \u001b[39melif\u001b[39;00m \u001b[39misinstance\u001b[39m(data, \u001b[39mdict\u001b[39m):\n\u001b[1;32m    661\u001b[0m     \u001b[39m# GH#38939 de facto copy defaults to False only in non-dict cases\u001b[39;00m\n\u001b[0;32m--> 662\u001b[0m     mgr \u001b[39m=\u001b[39m dict_to_mgr(data, index, columns, dtype\u001b[39m=\u001b[39;49mdtype, copy\u001b[39m=\u001b[39;49mcopy, typ\u001b[39m=\u001b[39;49mmanager)\n\u001b[1;32m    663\u001b[0m \u001b[39melif\u001b[39;00m \u001b[39misinstance\u001b[39m(data, ma\u001b[39m.\u001b[39mMaskedArray):\n\u001b[1;32m    664\u001b[0m     \u001b[39mimport\u001b[39;00m \u001b[39mnumpy\u001b[39;00m\u001b[39m.\u001b[39;00m\u001b[39mma\u001b[39;00m\u001b[39m.\u001b[39;00m\u001b[39mmrecords\u001b[39;00m \u001b[39mas\u001b[39;00m \u001b[39mmrecords\u001b[39;00m\n",
      "File \u001b[0;32m~/Desktop/GitHub/.venv/lib/python3.11/site-packages/pandas/core/internals/construction.py:493\u001b[0m, in \u001b[0;36mdict_to_mgr\u001b[0;34m(data, index, columns, dtype, typ, copy)\u001b[0m\n\u001b[1;32m    489\u001b[0m     \u001b[39melse\u001b[39;00m:\n\u001b[1;32m    490\u001b[0m         \u001b[39m# dtype check to exclude e.g. range objects, scalars\u001b[39;00m\n\u001b[1;32m    491\u001b[0m         arrays \u001b[39m=\u001b[39m [x\u001b[39m.\u001b[39mcopy() \u001b[39mif\u001b[39;00m \u001b[39mhasattr\u001b[39m(x, \u001b[39m\"\u001b[39m\u001b[39mdtype\u001b[39m\u001b[39m\"\u001b[39m) \u001b[39melse\u001b[39;00m x \u001b[39mfor\u001b[39;00m x \u001b[39min\u001b[39;00m arrays]\n\u001b[0;32m--> 493\u001b[0m \u001b[39mreturn\u001b[39;00m arrays_to_mgr(arrays, columns, index, dtype\u001b[39m=\u001b[39;49mdtype, typ\u001b[39m=\u001b[39;49mtyp, consolidate\u001b[39m=\u001b[39;49mcopy)\n",
      "File \u001b[0;32m~/Desktop/GitHub/.venv/lib/python3.11/site-packages/pandas/core/internals/construction.py:118\u001b[0m, in \u001b[0;36marrays_to_mgr\u001b[0;34m(arrays, columns, index, dtype, verify_integrity, typ, consolidate)\u001b[0m\n\u001b[1;32m    115\u001b[0m \u001b[39mif\u001b[39;00m verify_integrity:\n\u001b[1;32m    116\u001b[0m     \u001b[39m# figure out the index, if necessary\u001b[39;00m\n\u001b[1;32m    117\u001b[0m     \u001b[39mif\u001b[39;00m index \u001b[39mis\u001b[39;00m \u001b[39mNone\u001b[39;00m:\n\u001b[0;32m--> 118\u001b[0m         index \u001b[39m=\u001b[39m _extract_index(arrays)\n\u001b[1;32m    119\u001b[0m     \u001b[39melse\u001b[39;00m:\n\u001b[1;32m    120\u001b[0m         index \u001b[39m=\u001b[39m ensure_index(index)\n",
      "File \u001b[0;32m~/Desktop/GitHub/.venv/lib/python3.11/site-packages/pandas/core/internals/construction.py:653\u001b[0m, in \u001b[0;36m_extract_index\u001b[0;34m(data)\u001b[0m\n\u001b[1;32m    651\u001b[0m         raw_lengths\u001b[39m.\u001b[39mappend(\u001b[39mlen\u001b[39m(val))\n\u001b[1;32m    652\u001b[0m     \u001b[39melif\u001b[39;00m \u001b[39misinstance\u001b[39m(val, np\u001b[39m.\u001b[39mndarray) \u001b[39mand\u001b[39;00m val\u001b[39m.\u001b[39mndim \u001b[39m>\u001b[39m \u001b[39m1\u001b[39m:\n\u001b[0;32m--> 653\u001b[0m         \u001b[39mraise\u001b[39;00m \u001b[39mValueError\u001b[39;00m(\u001b[39m\"\u001b[39m\u001b[39mPer-column arrays must each be 1-dimensional\u001b[39m\u001b[39m\"\u001b[39m)\n\u001b[1;32m    655\u001b[0m \u001b[39mif\u001b[39;00m \u001b[39mnot\u001b[39;00m indexes \u001b[39mand\u001b[39;00m \u001b[39mnot\u001b[39;00m raw_lengths:\n\u001b[1;32m    656\u001b[0m     \u001b[39mraise\u001b[39;00m \u001b[39mValueError\u001b[39;00m(\u001b[39m\"\u001b[39m\u001b[39mIf using all scalar values, you must pass an index\u001b[39m\u001b[39m\"\u001b[39m)\n",
      "\u001b[0;31mValueError\u001b[0m: Per-column arrays must each be 1-dimensional"
     ]
    }
   ],
   "source": [
    "# Effect of one covariance: \n",
    "# hedging when cov is small enough, otherwise taking opposite positions; also signif. effect on other positions.\n",
    "w_gmv_cov_effect = {}\n",
    "for cov in numpy.linspace(1.1*Sigma[1, 0], -0.1*Sigma[1, 0], 1_000):\n",
    "    cur_Sigma = Sigma.copy()\n",
    "    cur_Sigma[1, 0] = cov\n",
    "    w_gmv_cov_effect[cov] = global_minimum_variance_portfolio(Sigma=cur_Sigma)\n",
    "\n",
    "w_gmv_cov_effect_df = pandas.DataFrame(w_gmv_cov_effect).T\n",
    "w_gmv_cov_effect_df.columns = [*range(1, w_gmv_cov_effect_df.shape[1]+1)]\n",
    "\n",
    "w_gmv_cov_effect_df.plot()\n",
    "plt.xlabel('$\\sigma_{12}$')\n",
    "plt.ylabel('Portfolio weight')\n",
    "plt.tight_layout();"
   ]
  },
  {
   "cell_type": "code",
   "execution_count": 21,
   "metadata": {},
   "outputs": [
    {
     "data": {
      "image/png": "[encoded data removed]",
      "text/plain": [
       "<Figure size 640x480 with 1 Axes>"
      ]
     },
     "metadata": {},
     "output_type": "display_data"
    }
   ],
   "source": [
    "# Effect of one covariance: \n",
    "# hedging when cov is small enough, otherwise taking opposite positions; also signif. effect on other positions.\n",
    "w_gmv_corr_effect = {}\n",
    "for cov in numpy.linspace(1.1*Sigma[1, 0], -0.1*Sigma[1, 0], 1_000):\n",
    "    cur_Sigma = Sigma.copy()\n",
    "    cur_Sigma[1, 0] = cov\n",
    "    cur_corr = cur_Sigma[1, 0] / numpy.sqrt(cur_Sigma[0, 0] * cur_Sigma[1, 1] )\n",
    "    w_gmv_corr_effect[cur_corr] = global_minimum_variance_portfolio(Sigma=cur_Sigma).ravel()\n",
    "\n",
    "w_gmv_corr_effect_df = pandas.DataFrame(w_gmv_corr_effect).T\n",
    "w_gmv_corr_effect_df.columns = [*range(1, w_gmv_corr_effect_df.shape[1]+1)]\n",
    "\n",
    "w_gmv_corr_effect_df.plot()\n",
    "plt.xlabel('$\\\\rho_{12}$')\n",
    "plt.ylabel('Portfolio weight')\n",
    "plt.tight_layout();"
   ]
  },
  {
   "attachments": {},
   "cell_type": "markdown",
   "metadata": {},
   "source": [
    "### Optimization when sum of weights is equal to 1"
   ]
  },
  {
   "attachments": {},
   "cell_type": "markdown",
   "metadata": {},
   "source": [
    "We derive asset allocation -- this is nice. However, note that the sum of weights is arbitrary here. It makes sense to assume that they should some up to 1, right?\n",
    "\n",
    "\\begin{cases}\n",
    "\\begin{align*}\n",
    "U(w) = w^{T}\\mu - \\dfrac{\\gamma}{2} w^{T} \\Sigma w \\to max_{w} \\\\\n",
    "w^{T}\\tau = 1, \\text{where } \\tau \\text{ is a vector of ones} \\\\\n",
    "\\end{align*}\n",
    "\\end{cases}\n",
    "\n",
    "The method of Lagrange multipliers!<br>\n",
    "$\\Lambda = w^{T}\\mu - \\dfrac{\\gamma}{2} w^{T}\\Sigma w + \\lambda(w^{T}\\tau - 1) \\to \\max_{w, \\lambda}$\n",
    "\n",
    "FOC:\n",
    "\\begin{cases}\n",
    "\\begin{align*}\n",
    "\\frac{d\\Lambda}{dh} = \\mu -\\gamma \\Sigma w + \\lambda \\tau = 0 \\\\\n",
    "\\frac{d\\Lambda}{d\\lambda} = \\mathbf{h}^{T} \\tau - 1 = 0 \\\\\n",
    "\\end{align*}\n",
    "\\end{cases}\n",
    "\n",
    "$\\frac{d\\Lambda}{dw} = 0$: $w = \\dfrac{1}{\\gamma}\\Sigma^{-1}[\\mu + \\lambda \\tau]$<br>\n",
    "Here we already see an interesting result: our optimal allocation will be equal to the unconstrained optimum plus $\\dfrac{\\lambda}{\\gamma}\\Sigma^{-1}\\tau$! <br>\n",
    "Plugging $w$ in $\\frac{d\\Lambda}{d\\lambda} = 0$, we get:<br><br>\n",
    "$\\dfrac{1}{\\gamma}[\\mu + \\lambda \\tau]^T\\Sigma^{-1} \\tau = 1$<br><br>\n",
    "$\\dfrac{1}{\\gamma}\\mu^T \\Sigma^{-1} \\tau + \\dfrac{\\lambda}{\\gamma} \\tau^T \\Sigma^{-1} \\tau = 1$<br><br> \n",
    "Now, denote $A = \\tau^T\\Sigma^{-1}\\tau$.<br><br> \n",
    "$\\lambda = \\dfrac{\\gamma - B}{A}$<br><br>\n",
    "Then:<br><br>\n",
    "$w^* = \\dfrac{1}{\\gamma}\\Sigma^{-1}[\\mu + \\dfrac{\\gamma - B}{A}\\tau]$<br><br>\n",
    "\n",
    "We can decompose this solution in two ways:<br><br>\n",
    "1. Unconstraint optimum plus add-on:<br><br> $w^* = \\dfrac{1}{\\gamma}\\Sigma^{-1}\\mu + \\dfrac{\\gamma - B}{\\gamma} * \\dfrac{1}{A} * \\Sigma^{-1}\\tau = w_{\\text{UC}} + \\dfrac{\\gamma - B}{\\gamma}w_{\\text{GMV}}$<br><br>\n",
    "As previously, if $\\gamma = B$, $w^* = w_{\\text{UC}}$!\n",
    "\n",
    "2. A weighted average of two portfolios GMV and $B$ (unconstrained with $\\gamma=B$) portfolios:<br><br> $w^* = \\dfrac{B}{\\gamma} \\dfrac{1}{B} \\Sigma^{-1} \\mu + \\dfrac{\\gamma - B}{\\gamma} \\dfrac{1}{A} \\Sigma^{-1} \\tau = \\dfrac{B}{\\gamma} \\mathbf{w}_B + \\dfrac{\\gamma - B}{\\gamma} \\mathbf{w}_{\\text{GMV}} = \\phi \\mathbf{w}_{\\text{GMV}} + (1-\\phi) \\mathbf{w}_B$<br><br>\n",
    " So the optimal portfolio is a linear combination of a GMV portfolio the portfolio B!"
   ]
  },
  {
   "cell_type": "code",
   "execution_count": 52,
   "metadata": {},
   "outputs": [],
   "source": [
    "def constrained_optimal_allocation1(mu: numpy.array, Sigma: numpy.array, gamma: float) -> numpy.array:\n",
    "    \"\"\"Using add-on\"\"\"\n",
    "    w_uc = uncostrained_optimal_allocation(mu=mu, Sigma=Sigma, gamma=gamma)\n",
    "\n",
    "    unit = numpy.ones_like(mu)\n",
    "    Sigma_inv = numpy.linalg.inv(Sigma)\n",
    "    A = unit.T @ Sigma_inv @ unit\n",
    "    B = unit.T @ Sigma_inv @ mu\n",
    "    w_gmv = global_minimum_variance_portfolio(Sigma=Sigma)\n",
    "    addon = (gamma - B) / gamma * w_gmv # ).reshape(-1, 1)\n",
    "    # print(addon)\n",
    "    print(w_uc.shape, addon.shape)\n",
    "    return w_uc + addon\n",
    "\n",
    "def constrained_optimal_allocation2(mu: numpy.array, Sigma: numpy.array, gamma: float) -> numpy.array:\n",
    "    \"\"\"Using GMV\"\"\"\n",
    "    unit = numpy.ones_like(mu)\n",
    "    Sigma_inv = numpy.linalg.inv(Sigma)\n",
    "    \n",
    "    B = unit.T @ Sigma_inv @ mu\n",
    "    phi = (gamma - B) / gamma\n",
    "\n",
    "    wb = 1 / B * Sigma_inv @ mu\n",
    "    # wb = scaled_optimum(mu=mu, Sigma=Sigma)\n",
    "\n",
    "    w_gmv = global_minimum_variance_portfolio(Sigma=Sigma)\n",
    "\n",
    "    return phi*w_gmv + (1-phi)*w_gmv"
   ]
  },
  {
   "cell_type": "code",
   "execution_count": 53,
   "metadata": {},
   "outputs": [
    {
     "name": "stdout",
     "output_type": "stream",
     "text": [
      "(10, 1) (10, 1)\n"
     ]
    },
    {
     "ename": "AssertionError",
     "evalue": "",
     "output_type": "error",
     "traceback": [
      "\u001b[0;31m---------------------------------------------------------------------------\u001b[0m",
      "\u001b[0;31mAssertionError\u001b[0m                            Traceback (most recent call last)",
      "Cell \u001b[0;32mIn [53], line 4\u001b[0m\n\u001b[1;32m      2\u001b[0m coa1 \u001b[39m=\u001b[39m constrained_optimal_allocation1(mu\u001b[39m=\u001b[39mmu, Sigma\u001b[39m=\u001b[39mSigma, gamma\u001b[39m=\u001b[39mgamma)\n\u001b[1;32m      3\u001b[0m coa2 \u001b[39m=\u001b[39m constrained_optimal_allocation2(mu\u001b[39m=\u001b[39mmu, Sigma\u001b[39m=\u001b[39mSigma, gamma\u001b[39m=\u001b[39mgamma)\n\u001b[0;32m----> 4\u001b[0m \u001b[39massert\u001b[39;00m numpy\u001b[39m.\u001b[39mabs(coa1 \u001b[39m-\u001b[39m coa2)\u001b[39m.\u001b[39mmax() \u001b[39m<\u001b[39m \u001b[39m1e-6\u001b[39m \u001b[39m# TODO\u001b[39;00m\n",
      "\u001b[0;31mAssertionError\u001b[0m: "
     ]
    }
   ],
   "source": [
    "# Check that two methods are equivalent indeed!\n",
    "coa1 = constrained_optimal_allocation1(mu=mu, Sigma=Sigma, gamma=gamma)\n",
    "coa2 = constrained_optimal_allocation2(mu=mu, Sigma=Sigma, gamma=gamma)\n",
    "assert numpy.abs(coa1 - coa2).max() < 1e-6 # TODO"
   ]
  },
  {
   "attachments": {},
   "cell_type": "markdown",
   "metadata": {},
   "source": [
    "### Optimization with transaction costs"
   ]
  },
  {
   "attachments": {},
   "cell_type": "markdown",
   "metadata": {},
   "source": [
    "Alright, so far we have been living in a dream word without any transaction costs. However, when choosing asset allocaiton in reality, we need to take them into account!<br>\n",
    "\n",
    "A typical way to model transaction costs is through a function that depends on a cost matrix $C$ and a vector of weight changes $w - w_0$. It is important to understand that $w_0$ is asset allocaiton right before rebalancing!<br>\n",
    "\n",
    "A simplistic assumption about this function can give us a neat closed form solution. Assum that the cost function is the following:<br>\n",
    "$c = (w - w_0)^TC(w-w_0)$.<br>\n",
    "The cost matrix $C$ usually is a diagonal matrix. If so, the function is just:<br>\n",
    "$c = c_1(w_1 - w_1^{0})^2 + c_2(w_2 - w_2^{0})^2 + ...$<br>\n",
    "That is, for every squared weight change you incur a cost $c_i$.<br><br>\n",
    "\n",
    "An unconstrained problem looks as follows:<br>\n",
    "\n",
    "$U(w) = w^T\\mu -\\dfrac{\\gamma}{2}w^T\\Sigma w - \\dfrac{\\kappa}{2}(w - w_0)^TC(w-w_0) \\to max_{w}$\n",
    "FOC gives us:<br><br>\n",
    "$w_{QTC} = (\\gamma \\Sigma + \\kappa C)^{-1} (\\mu + \\kappa C w_0)$<br><br>\n",
    "Here the transaction costs adjust the solution without them. For more intuition, consider the following cases:<br><br>\n",
    "1. $\\kappa=0$. Obviously, the problem reduces to the problem without transaction costs and $w^* = (\\gamma \\Sigma)^{-1} \\mu = \\dfrac{1}{\\gamma} \\Sigma^{-1} \\mu$<br><br>\n",
    "2. Before rebalancing, all weights are 0: $w_0 = 0$. E.g. this is the first period of our trading activity. Then $w^* = (\\gamma \\Sigma + \\kappa C)^{-1} \\mu = \\tilde{\\Sigma}^{-1} \\mu$. That is, transaction costs adjust only the covariance matrix.<br><br>\n",
    "3. $C = \\Sigma$: $w^* = \\dfrac{1}{\\gamma + \\kappa}\\Sigma^{-1}\\mu + \\dfrac{\\kappa}{\\gamma + \\kappa}w_0$ (WHAT IS SO NICE ABOUT IT?)"
   ]
  },
  {
   "cell_type": "code",
   "execution_count": 54,
   "metadata": {},
   "outputs": [],
   "source": [
    "def asset_allocation_with_cost_matrix(gamma, Sigma, kappa, Cost_matrix, mu, previous_weights):\n",
    "\n",
    "    first_m = gamma * Sigma + kappa * Cost_matrix\n",
    "    first_m_inv = numpy.linalg.inv(first_m)\n",
    "    second_m = mu + kappa * Cost_matrix @ previous_weights\n",
    "\n",
    "    return first_m_inv @ second_m"
   ]
  },
  {
   "cell_type": "code",
   "execution_count": 55,
   "metadata": {},
   "outputs": [
    {
     "ename": "ValueError",
     "evalue": "matmul: Input operand 1 has a mismatch in its core dimension 0, with gufunc signature (n?,k),(k,m?)->(n?,m?) (size 10 is different from 1)",
     "output_type": "error",
     "traceback": [
      "\u001b[0;31m---------------------------------------------------------------------------\u001b[0m",
      "\u001b[0;31mValueError\u001b[0m                                Traceback (most recent call last)",
      "Cell \u001b[0;32mIn [55], line 5\u001b[0m\n\u001b[1;32m      2\u001b[0m Cost_matrix \u001b[39m=\u001b[39m numpy\u001b[39m.\u001b[39mdiag(\u001b[39m0.1\u001b[39m \u001b[39m*\u001b[39m numpy\u001b[39m.\u001b[39mones_like(mu))\n\u001b[1;32m      3\u001b[0m previous_weights \u001b[39m=\u001b[39m numpy\u001b[39m.\u001b[39mones_like(mu) \u001b[39m/\u001b[39m \u001b[39mlen\u001b[39m(mu) \u001b[39m# equally-weighted portfolio\u001b[39;00m\n\u001b[0;32m----> 5\u001b[0m w_qtc \u001b[39m=\u001b[39m asset_allocation_with_cost_matrix(gamma, Sigma, kappa\u001b[39m=\u001b[39;49mkappa, Cost_matrix\u001b[39m=\u001b[39;49mCost_matrix, mu\u001b[39m=\u001b[39;49mmu, previous_weights\u001b[39m=\u001b[39;49mprevious_weights)\n",
      "Cell \u001b[0;32mIn [54], line 5\u001b[0m, in \u001b[0;36masset_allocation_with_cost_matrix\u001b[0;34m(gamma, Sigma, kappa, Cost_matrix, mu, previous_weights)\u001b[0m\n\u001b[1;32m      3\u001b[0m first_m \u001b[39m=\u001b[39m gamma \u001b[39m*\u001b[39m Sigma \u001b[39m+\u001b[39m kappa \u001b[39m*\u001b[39m Cost_matrix\n\u001b[1;32m      4\u001b[0m first_m_inv \u001b[39m=\u001b[39m numpy\u001b[39m.\u001b[39mlinalg\u001b[39m.\u001b[39minv(first_m)\n\u001b[0;32m----> 5\u001b[0m second_m \u001b[39m=\u001b[39m mu \u001b[39m+\u001b[39m kappa \u001b[39m*\u001b[39;49m Cost_matrix \u001b[39m@\u001b[39;49m previous_weights\n\u001b[1;32m      7\u001b[0m \u001b[39mreturn\u001b[39;00m first_m_inv \u001b[39m@\u001b[39m second_m\n",
      "\u001b[0;31mValueError\u001b[0m: matmul: Input operand 1 has a mismatch in its core dimension 0, with gufunc signature (n?,k),(k,m?)->(n?,m?) (size 10 is different from 1)"
     ]
    }
   ],
   "source": [
    "kappa = 5\n",
    "Cost_matrix = numpy.diag(0.1 * numpy.ones_like(mu))\n",
    "previous_weights = numpy.ones_like(mu) / len(mu) # equally-weighted portfolio\n",
    "\n",
    "w_qtc = asset_allocation_with_cost_matrix(gamma, Sigma, kappa=kappa, Cost_matrix=Cost_matrix, mu=mu, previous_weights=previous_weights)"
   ]
  },
  {
   "cell_type": "code",
   "execution_count": 56,
   "metadata": {},
   "outputs": [
    {
     "ename": "ValueError",
     "evalue": "matmul: Input operand 1 has a mismatch in its core dimension 0, with gufunc signature (n?,k),(k,m?)->(n?,m?) (size 10 is different from 1)",
     "output_type": "error",
     "traceback": [
      "\u001b[0;31m---------------------------------------------------------------------------\u001b[0m",
      "\u001b[0;31mValueError\u001b[0m                                Traceback (most recent call last)",
      "Cell \u001b[0;32mIn [56], line 1\u001b[0m\n\u001b[0;32m----> 1\u001b[0m w_qtc_experiments \u001b[39m=\u001b[39m {\n\u001b[1;32m      2\u001b[0m     k: asset_allocation_with_cost_matrix(gamma, Sigma, kappa\u001b[39m=\u001b[39;49mk, Cost_matrix\u001b[39m=\u001b[39;49mCost_matrix, mu\u001b[39m=\u001b[39;49mmu, previous_weights\u001b[39m=\u001b[39;49mprevious_weights)\n\u001b[1;32m      3\u001b[0m     \u001b[39mfor\u001b[39;49;00m k \u001b[39min\u001b[39;49;00m numpy\u001b[39m.\u001b[39;49mlinspace(\u001b[39m0.0\u001b[39;49m, \u001b[39m10.0\u001b[39;49m, \u001b[39m100\u001b[39;49m)\n\u001b[1;32m      4\u001b[0m }\n\u001b[1;32m      5\u001b[0m w_qtc_experiments_df \u001b[39m=\u001b[39m pandas\u001b[39m.\u001b[39mDataFrame\u001b[39m.\u001b[39mfrom_dict(w_qtc_experiments, orient\u001b[39m=\u001b[39m\u001b[39m'\u001b[39m\u001b[39mindex\u001b[39m\u001b[39m'\u001b[39m)\n",
      "Cell \u001b[0;32mIn [56], line 2\u001b[0m, in \u001b[0;36m<dictcomp>\u001b[0;34m(.0)\u001b[0m\n\u001b[1;32m      1\u001b[0m w_qtc_experiments \u001b[39m=\u001b[39m {\n\u001b[0;32m----> 2\u001b[0m     k: asset_allocation_with_cost_matrix(gamma, Sigma, kappa\u001b[39m=\u001b[39;49mk, Cost_matrix\u001b[39m=\u001b[39;49mCost_matrix, mu\u001b[39m=\u001b[39;49mmu, previous_weights\u001b[39m=\u001b[39;49mprevious_weights)\n\u001b[1;32m      3\u001b[0m     \u001b[39mfor\u001b[39;00m k \u001b[39min\u001b[39;00m numpy\u001b[39m.\u001b[39mlinspace(\u001b[39m0.0\u001b[39m, \u001b[39m10.0\u001b[39m, \u001b[39m100\u001b[39m)\n\u001b[1;32m      4\u001b[0m }\n\u001b[1;32m      5\u001b[0m w_qtc_experiments_df \u001b[39m=\u001b[39m pandas\u001b[39m.\u001b[39mDataFrame\u001b[39m.\u001b[39mfrom_dict(w_qtc_experiments, orient\u001b[39m=\u001b[39m\u001b[39m'\u001b[39m\u001b[39mindex\u001b[39m\u001b[39m'\u001b[39m)\n",
      "Cell \u001b[0;32mIn [54], line 5\u001b[0m, in \u001b[0;36masset_allocation_with_cost_matrix\u001b[0;34m(gamma, Sigma, kappa, Cost_matrix, mu, previous_weights)\u001b[0m\n\u001b[1;32m      3\u001b[0m first_m \u001b[39m=\u001b[39m gamma \u001b[39m*\u001b[39m Sigma \u001b[39m+\u001b[39m kappa \u001b[39m*\u001b[39m Cost_matrix\n\u001b[1;32m      4\u001b[0m first_m_inv \u001b[39m=\u001b[39m numpy\u001b[39m.\u001b[39mlinalg\u001b[39m.\u001b[39minv(first_m)\n\u001b[0;32m----> 5\u001b[0m second_m \u001b[39m=\u001b[39m mu \u001b[39m+\u001b[39m kappa \u001b[39m*\u001b[39;49m Cost_matrix \u001b[39m@\u001b[39;49m previous_weights\n\u001b[1;32m      7\u001b[0m \u001b[39mreturn\u001b[39;00m first_m_inv \u001b[39m@\u001b[39m second_m\n",
      "\u001b[0;31mValueError\u001b[0m: matmul: Input operand 1 has a mismatch in its core dimension 0, with gufunc signature (n?,k),(k,m?)->(n?,m?) (size 10 is different from 1)"
     ]
    }
   ],
   "source": [
    "w_qtc_experiments = {\n",
    "    k: asset_allocation_with_cost_matrix(gamma, Sigma, kappa=k, Cost_matrix=Cost_matrix, mu=mu, previous_weights=previous_weights)\n",
    "    for k in numpy.linspace(0.0, 10.0, 100)\n",
    "}\n",
    "w_qtc_experiments_df = pandas.DataFrame.from_dict(w_qtc_experiments, orient='index')"
   ]
  },
  {
   "cell_type": "code",
   "execution_count": 57,
   "metadata": {},
   "outputs": [
    {
     "data": {
      "image/png": "[encoded data removed]",
      "text/plain": [
       "<Figure size 1600x800 with 1 Axes>"
      ]
     },
     "metadata": {},
     "output_type": "display_data"
    }
   ],
   "source": [
    "w_qtc_experiments_df.plot(figsize=(16, 8))\n",
    "plt.xlabel('$\\kappa$')\n",
    "plt.show();"
   ]
  },
  {
   "cell_type": "code",
   "execution_count": 58,
   "metadata": {},
   "outputs": [],
   "source": [
    "def asset_allocation_with_cost_matrix_zero_weight_sum(gamma, Sigma, kappa, Cost_matrix, mu, previous_weights, weight_sum: float = 0):\n",
    "\n",
    "    F = numpy.linalg.inv(gamma*Sigma + kappa*Cost_matrix)\n",
    "    g = (mu + kappa*Cost_matrix@previous_weights).reshape(-1, 1) # .reshape(-1, 1)\n",
    "    unit = numpy.ones_like(g).reshape(-1, 1)\n",
    "\n",
    "    lambda_ = 1 / (unit.T @ F.T @ unit) * (weight_sum - g.T @ F.T @ unit)\n",
    "\n",
    "    w = F@g + lambda_*F@unit\n",
    "\n",
    "    return w"
   ]
  },
  {
   "cell_type": "code",
   "execution_count": 59,
   "metadata": {},
   "outputs": [
    {
     "ename": "ValueError",
     "evalue": "matmul: Input operand 1 has a mismatch in its core dimension 0, with gufunc signature (n?,k),(k,m?)->(n?,m?) (size 10 is different from 1)",
     "output_type": "error",
     "traceback": [
      "\u001b[0;31m---------------------------------------------------------------------------\u001b[0m",
      "\u001b[0;31mValueError\u001b[0m                                Traceback (most recent call last)",
      "Cell \u001b[0;32mIn [59], line 1\u001b[0m\n\u001b[0;32m----> 1\u001b[0m trans_cost_portfilio \u001b[39m=\u001b[39m asset_allocation_with_cost_matrix_zero_weight_sum(gamma\u001b[39m=\u001b[39;49mgamma, Sigma\u001b[39m=\u001b[39;49mSigma, kappa\u001b[39m=\u001b[39;49mkappa, Cost_matrix\u001b[39m=\u001b[39;49mCost_matrix, mu\u001b[39m=\u001b[39;49mmu, previous_weights\u001b[39m=\u001b[39;49mprevious_weights)\n\u001b[1;32m      2\u001b[0m trans_cost_portfilio\u001b[39m.\u001b[39msum()\n",
      "Cell \u001b[0;32mIn [58], line 4\u001b[0m, in \u001b[0;36masset_allocation_with_cost_matrix_zero_weight_sum\u001b[0;34m(gamma, Sigma, kappa, Cost_matrix, mu, previous_weights, weight_sum)\u001b[0m\n\u001b[1;32m      1\u001b[0m \u001b[39mdef\u001b[39;00m \u001b[39masset_allocation_with_cost_matrix_zero_weight_sum\u001b[39m(gamma, Sigma, kappa, Cost_matrix, mu, previous_weights, weight_sum: \u001b[39mfloat\u001b[39m \u001b[39m=\u001b[39m \u001b[39m0\u001b[39m):\n\u001b[1;32m      3\u001b[0m     F \u001b[39m=\u001b[39m numpy\u001b[39m.\u001b[39mlinalg\u001b[39m.\u001b[39minv(gamma\u001b[39m*\u001b[39mSigma \u001b[39m+\u001b[39m kappa\u001b[39m*\u001b[39mCost_matrix)\n\u001b[0;32m----> 4\u001b[0m     g \u001b[39m=\u001b[39m (mu \u001b[39m+\u001b[39m kappa\u001b[39m*\u001b[39;49mCost_matrix\u001b[39m@previous_weights\u001b[39;49m)\u001b[39m.\u001b[39mreshape(\u001b[39m-\u001b[39m\u001b[39m1\u001b[39m, \u001b[39m1\u001b[39m) \u001b[39m# .reshape(-1, 1)\u001b[39;00m\n\u001b[1;32m      5\u001b[0m     unit \u001b[39m=\u001b[39m numpy\u001b[39m.\u001b[39mones_like(g)\u001b[39m.\u001b[39mreshape(\u001b[39m-\u001b[39m\u001b[39m1\u001b[39m, \u001b[39m1\u001b[39m)\n\u001b[1;32m      7\u001b[0m     lambda_ \u001b[39m=\u001b[39m \u001b[39m1\u001b[39m \u001b[39m/\u001b[39m (unit\u001b[39m.\u001b[39mT \u001b[39m@\u001b[39m F\u001b[39m.\u001b[39mT \u001b[39m@\u001b[39m unit) \u001b[39m*\u001b[39m (weight_sum \u001b[39m-\u001b[39m g\u001b[39m.\u001b[39mT \u001b[39m@\u001b[39m F\u001b[39m.\u001b[39mT \u001b[39m@\u001b[39m unit)\n",
      "\u001b[0;31mValueError\u001b[0m: matmul: Input operand 1 has a mismatch in its core dimension 0, with gufunc signature (n?,k),(k,m?)->(n?,m?) (size 10 is different from 1)"
     ]
    }
   ],
   "source": [
    "trans_cost_portfilio = asset_allocation_with_cost_matrix_zero_weight_sum(gamma=gamma, Sigma=Sigma, kappa=kappa, Cost_matrix=Cost_matrix, mu=mu, previous_weights=previous_weights)\n",
    "trans_cost_portfilio.sum()"
   ]
  },
  {
   "cell_type": "code",
   "execution_count": 60,
   "metadata": {},
   "outputs": [
    {
     "ename": "ValueError",
     "evalue": "matmul: Input operand 1 has a mismatch in its core dimension 0, with gufunc signature (n?,k),(k,m?)->(n?,m?) (size 10 is different from 1)",
     "output_type": "error",
     "traceback": [
      "\u001b[0;31m---------------------------------------------------------------------------\u001b[0m",
      "\u001b[0;31mValueError\u001b[0m                                Traceback (most recent call last)",
      "Cell \u001b[0;32mIn [60], line 1\u001b[0m\n\u001b[0;32m----> 1\u001b[0m trans_cost_portfilio \u001b[39m=\u001b[39m asset_allocation_with_cost_matrix_zero_weight_sum(gamma\u001b[39m=\u001b[39;49mgamma, Sigma\u001b[39m=\u001b[39;49mSigma, kappa\u001b[39m=\u001b[39;49mkappa, Cost_matrix\u001b[39m=\u001b[39;49mCost_matrix, mu\u001b[39m=\u001b[39;49mmu, previous_weights\u001b[39m=\u001b[39;49mprevious_weights, weight_sum\u001b[39m=\u001b[39;49m\u001b[39m1\u001b[39;49m)\n\u001b[1;32m      2\u001b[0m trans_cost_portfilio\u001b[39m.\u001b[39msum()\n",
      "Cell \u001b[0;32mIn [58], line 4\u001b[0m, in \u001b[0;36masset_allocation_with_cost_matrix_zero_weight_sum\u001b[0;34m(gamma, Sigma, kappa, Cost_matrix, mu, previous_weights, weight_sum)\u001b[0m\n\u001b[1;32m      1\u001b[0m \u001b[39mdef\u001b[39;00m \u001b[39masset_allocation_with_cost_matrix_zero_weight_sum\u001b[39m(gamma, Sigma, kappa, Cost_matrix, mu, previous_weights, weight_sum: \u001b[39mfloat\u001b[39m \u001b[39m=\u001b[39m \u001b[39m0\u001b[39m):\n\u001b[1;32m      3\u001b[0m     F \u001b[39m=\u001b[39m numpy\u001b[39m.\u001b[39mlinalg\u001b[39m.\u001b[39minv(gamma\u001b[39m*\u001b[39mSigma \u001b[39m+\u001b[39m kappa\u001b[39m*\u001b[39mCost_matrix)\n\u001b[0;32m----> 4\u001b[0m     g \u001b[39m=\u001b[39m (mu \u001b[39m+\u001b[39m kappa\u001b[39m*\u001b[39;49mCost_matrix\u001b[39m@previous_weights\u001b[39;49m)\u001b[39m.\u001b[39mreshape(\u001b[39m-\u001b[39m\u001b[39m1\u001b[39m, \u001b[39m1\u001b[39m) \u001b[39m# .reshape(-1, 1)\u001b[39;00m\n\u001b[1;32m      5\u001b[0m     unit \u001b[39m=\u001b[39m numpy\u001b[39m.\u001b[39mones_like(g)\u001b[39m.\u001b[39mreshape(\u001b[39m-\u001b[39m\u001b[39m1\u001b[39m, \u001b[39m1\u001b[39m)\n\u001b[1;32m      7\u001b[0m     lambda_ \u001b[39m=\u001b[39m \u001b[39m1\u001b[39m \u001b[39m/\u001b[39m (unit\u001b[39m.\u001b[39mT \u001b[39m@\u001b[39m F\u001b[39m.\u001b[39mT \u001b[39m@\u001b[39m unit) \u001b[39m*\u001b[39m (weight_sum \u001b[39m-\u001b[39m g\u001b[39m.\u001b[39mT \u001b[39m@\u001b[39m F\u001b[39m.\u001b[39mT \u001b[39m@\u001b[39m unit)\n",
      "\u001b[0;31mValueError\u001b[0m: matmul: Input operand 1 has a mismatch in its core dimension 0, with gufunc signature (n?,k),(k,m?)->(n?,m?) (size 10 is different from 1)"
     ]
    }
   ],
   "source": [
    "trans_cost_portfilio = asset_allocation_with_cost_matrix_zero_weight_sum(gamma=gamma, Sigma=Sigma, kappa=kappa, Cost_matrix=Cost_matrix, mu=mu, previous_weights=previous_weights, weight_sum=1)\n",
    "trans_cost_portfilio.sum()"
   ]
  },
  {
   "cell_type": "code",
   "execution_count": 61,
   "metadata": {},
   "outputs": [],
   "source": [
    "import numpy\n",
    "\n",
    "def quadratic_cost_function(weight_change, cost_per_unit):\n",
    "    return cost_per_unit * weight_change**2\n",
    "\n",
    "def linear_cost_function(weight_change, cost_per_unit):\n",
    "    return cost_per_unit *numpy.abs(weight_change)"
   ]
  },
  {
   "cell_type": "code",
   "execution_count": 62,
   "metadata": {},
   "outputs": [
    {
     "ename": "SyntaxError",
     "evalue": "invalid syntax (1253749544.py, line 8)",
     "output_type": "error",
     "traceback": [
      "\u001b[0;36m  Cell \u001b[0;32mIn [62], line 8\u001b[0;36m\u001b[0m\n\u001b[0;31m    lambda_ =\u001b[0m\n\u001b[0m              ^\u001b[0m\n\u001b[0;31mSyntaxError\u001b[0m\u001b[0;31m:\u001b[0m invalid syntax\n"
     ]
    }
   ],
   "source": [
    "# Transaction costs + sum of weights = 1\n",
    "\n",
    "def asset_allocation_with_transaction_consts_and_constraints():\n",
    "\n",
    "    S = numpy.linalg.inv(gamma * Sigma + kappa * Cost_matrix)\n",
    "\n",
    "    multiplier = 1 / numpy.ones()\n",
    "    lambda_ = "
   ]
  },
  {
   "cell_type": "code",
   "execution_count": null,
   "metadata": {},
   "outputs": [],
   "source": []
  },
  {
   "cell_type": "code",
   "execution_count": 63,
   "metadata": {},
   "outputs": [
    {
     "data": {
      "image/png": "[encoded data removed]",
      "text/plain": [
       "<Figure size 640x480 with 1 Axes>"
      ]
     },
     "metadata": {},
     "output_type": "display_data"
    }
   ],
   "source": [
    "import matplotlib.pyplot as plt\n",
    "import pandas\n",
    "\n",
    "weight_change = numpy.linspace(0, 2, 10_000)\n",
    "total_quadratic_cost = quadratic_cost_function(weight_change, cost_per_unit=1)\n",
    "total_linear_cost = linear_cost_function(weight_change, cost_per_unit=1)\n",
    "\n",
    "# costs = pandas.DataFrame\n",
    "\n",
    "plt.plot(weight_change, total_quadratic_cost, label='quadratic cost')\n",
    "plt.plot(weight_change, total_linear_cost, label='linear cost')\n",
    "plt.xlabel('Weight change')\n",
    "plt.ylabel('Total transaction costs')\n",
    "plt.title('Cost function')\n",
    "plt.legend()\n",
    "plt.tight_layout();"
   ]
  },
  {
   "attachments": {},
   "cell_type": "markdown",
   "metadata": {},
   "source": [
    "However, sometimes ppl assume linear cost function:<br><br>\n",
    "\n",
    "$U(w) = w^T\\mu -\\dfrac{\\gamma}{2}w^T\\Sigma w - \\dfrac{\\kappa}{2}c^T|w-w_0| \\to max_{w}$<br><br>\n",
    "\n",
    "This function is not continuous and thus does not have a closed form solution. We can find a solution numerically though!"
   ]
  },
  {
   "attachments": {},
   "cell_type": "markdown",
   "metadata": {},
   "source": [
    "### Using cvxpy\n",
    "https://www.cvxpy.org/version/1.1/examples/index.html"
   ]
  },
  {
   "cell_type": "code",
   "execution_count": 64,
   "metadata": {},
   "outputs": [],
   "source": [
    "import cvxpy as cp\n",
    "import numpy\n",
    "\n",
    "numpy.random.seed(1)\n",
    "n = 10\n",
    "mu = numpy.abs(numpy.random.randn(n, 1))\n",
    "Sigma = numpy.random.randn(n, n)\n",
    "Sigma = Sigma.T.dot(Sigma)"
   ]
  },
  {
   "cell_type": "code",
   "execution_count": 65,
   "metadata": {},
   "outputs": [
    {
     "name": "stdout",
     "output_type": "stream",
     "text": [
      "Status: optimal\n",
      "Optimal allocation: [ 0.043562   -0.11544821  0.20750816  0.16503849  0.10026211  0.27292388\n",
      "  0.1048602  -0.03309569  0.12886495  0.1255241 ]\n"
     ]
    }
   ],
   "source": [
    "w = cp.Variable(n)\n",
    "gamma_cp = cp.Parameter(nonneg=True)\n",
    "ret = mu.T @ w\n",
    "risk = cp.quad_form(w, Sigma) # w.T @ Sigma @ w\n",
    "prob = cp.Problem(cp.Maximize(ret - gamma * risk), [cp.sum(w) == 1])\n",
    "\n",
    "gamma_cp.value = 1\n",
    "prob.solve()\n",
    "\n",
    "print(f'Status: {prob.solution.status}')\n",
    "print(f'Optimal allocation:', w.value)"
   ]
  },
  {
   "cell_type": "code",
   "execution_count": 66,
   "metadata": {},
   "outputs": [
    {
     "name": "stdout",
     "output_type": "stream",
     "text": [
      "(10, 1) (10, 1)\n"
     ]
    },
    {
     "data": {
      "text/plain": [
       "array([[-0.0782122 ],\n",
       "       [-0.17593496],\n",
       "       [ 0.01079487],\n",
       "       [ 0.30188013],\n",
       "       [ 0.28581828],\n",
       "       [ 0.4687055 ],\n",
       "       [ 0.13533128],\n",
       "       [-0.14675597],\n",
       "       [ 0.14867016],\n",
       "       [ 0.04970291]])"
      ]
     },
     "execution_count": 66,
     "metadata": {},
     "output_type": "execute_result"
    }
   ],
   "source": [
    "constrained_optimal_allocation1(mu=mu, Sigma=Sigma, gamma=gamma)"
   ]
  },
  {
   "cell_type": "code",
   "execution_count": 67,
   "metadata": {},
   "outputs": [
    {
     "data": {
      "text/plain": [
       "array([[ 0.16533621],\n",
       "       [-0.05496146],\n",
       "       [ 0.40422146],\n",
       "       [ 0.02819686],\n",
       "       [-0.08529405],\n",
       "       [ 0.07714226],\n",
       "       [ 0.07438911],\n",
       "       [ 0.08056459],\n",
       "       [ 0.10905974],\n",
       "       [ 0.20134529]])"
      ]
     },
     "execution_count": 67,
     "metadata": {},
     "output_type": "execute_result"
    }
   ],
   "source": [
    "constrained_optimal_allocation2(mu=mu, Sigma=Sigma, gamma=gamma)"
   ]
  },
  {
   "cell_type": "code",
   "execution_count": 68,
   "metadata": {},
   "outputs": [
    {
     "data": {
      "text/plain": [
       "array([[-0.32176061],\n",
       "       [-0.29690846],\n",
       "       [-0.38263171],\n",
       "       [ 0.5755634 ],\n",
       "       [ 0.65693062],\n",
       "       [ 0.86026874],\n",
       "       [ 0.19627345],\n",
       "       [-0.37407653],\n",
       "       [ 0.18828058],\n",
       "       [-0.10193948]])"
      ]
     },
     "execution_count": 68,
     "metadata": {},
     "output_type": "execute_result"
    }
   ],
   "source": [
    "gamma = 1\n",
    "unit = numpy.ones_like(mu)\n",
    "Sigma_inv = numpy.linalg.inv(Sigma)\n",
    "\n",
    "A = unit.T @ Sigma_inv @ unit\n",
    "B = unit.T @ Sigma_inv @ mu\n",
    "\n",
    "wa = 1/A * Sigma_inv @ unit\n",
    "wb = 1/B * Sigma_inv @ mu\n",
    "\n",
    "w_opt = B/gamma * wb + (gamma-B)/gamma * wa\n",
    "\n",
    "w_opt"
   ]
  },
  {
   "cell_type": "code",
   "execution_count": null,
   "metadata": {},
   "outputs": [
    {
     "data": {
      "text/html": [
       "<div>\n",
       "<style scoped>\n",
       "    .dataframe tbody tr th:only-of-type {\n",
       "        vertical-align: middle;\n",
       "    }\n",
       "\n",
       "    .dataframe tbody tr th {\n",
       "        vertical-align: top;\n",
       "    }\n",
       "\n",
       "    .dataframe thead th {\n",
       "        text-align: right;\n",
       "    }\n",
       "</style>\n",
       "<table border=\"1\" class=\"dataframe\">\n",
       "  <thead>\n",
       "    <tr style=\"text-align: right;\">\n",
       "      <th></th>\n",
       "      <th>cvxpy</th>\n",
       "      <th>CFS</th>\n",
       "    </tr>\n",
       "  </thead>\n",
       "  <tbody>\n",
       "    <tr>\n",
       "      <th>0</th>\n",
       "      <td>-0.078212</td>\n",
       "      <td>-0.321761</td>\n",
       "    </tr>\n",
       "    <tr>\n",
       "      <th>1</th>\n",
       "      <td>-0.175935</td>\n",
       "      <td>-0.296908</td>\n",
       "    </tr>\n",
       "    <tr>\n",
       "      <th>2</th>\n",
       "      <td>0.010795</td>\n",
       "      <td>-0.382632</td>\n",
       "    </tr>\n",
       "    <tr>\n",
       "      <th>3</th>\n",
       "      <td>0.301880</td>\n",
       "      <td>0.575563</td>\n",
       "    </tr>\n",
       "    <tr>\n",
       "      <th>4</th>\n",
       "      <td>0.285818</td>\n",
       "      <td>0.656931</td>\n",
       "    </tr>\n",
       "    <tr>\n",
       "      <th>5</th>\n",
       "      <td>0.468705</td>\n",
       "      <td>0.860269</td>\n",
       "    </tr>\n",
       "    <tr>\n",
       "      <th>6</th>\n",
       "      <td>0.135331</td>\n",
       "      <td>0.196273</td>\n",
       "    </tr>\n",
       "    <tr>\n",
       "      <th>7</th>\n",
       "      <td>-0.146756</td>\n",
       "      <td>-0.374077</td>\n",
       "    </tr>\n",
       "    <tr>\n",
       "      <th>8</th>\n",
       "      <td>0.148670</td>\n",
       "      <td>0.188281</td>\n",
       "    </tr>\n",
       "    <tr>\n",
       "      <th>9</th>\n",
       "      <td>0.049703</td>\n",
       "      <td>-0.101939</td>\n",
       "    </tr>\n",
       "  </tbody>\n",
       "</table>\n",
       "</div>"
      ],
      "text/plain": [
       "      cvxpy       CFS\n",
       "0 -0.078212 -0.321761\n",
       "1 -0.175935 -0.296908\n",
       "2  0.010795 -0.382632\n",
       "3  0.301880  0.575563\n",
       "4  0.285818  0.656931\n",
       "5  0.468705  0.860269\n",
       "6  0.135331  0.196273\n",
       "7 -0.146756 -0.374077\n",
       "8  0.148670  0.188281\n",
       "9  0.049703 -0.101939"
      ]
     },
     "execution_count": 51,
     "metadata": {},
     "output_type": "execute_result"
    }
   ],
   "source": [
    "import pandas\n",
    "comparison_df = pandas.DataFrame(\n",
    "    {'cvxpy': w.value.ravel(), 'CFS': w_opt.ravel()}\n",
    ")\n",
    "comparison_df"
   ]
  },
  {
   "cell_type": "code",
   "execution_count": null,
   "metadata": {},
   "outputs": [
    {
     "data": {
      "text/plain": [
       "cvxpy    1.0\n",
       "CFS      1.0\n",
       "dtype: float64"
      ]
     },
     "execution_count": 52,
     "metadata": {},
     "output_type": "execute_result"
    }
   ],
   "source": [
    "comparison_df.sum()"
   ]
  },
  {
   "attachments": {},
   "cell_type": "markdown",
   "metadata": {},
   "source": [
    "#### Long only portfolio optimization"
   ]
  },
  {
   "cell_type": "code",
   "execution_count": null,
   "metadata": {},
   "outputs": [
    {
     "name": "stdout",
     "output_type": "stream",
     "text": [
      "Status: optimal\n",
      "Optimal allocation: [ 7.21944027e-02 -9.76385333e-24  4.42551378e-02  2.13447615e-01\n",
      "  1.84913540e-01  2.94178083e-01  4.46087459e-02 -1.73168005e-23\n",
      "  8.47886626e-02  6.16138131e-02]\n"
     ]
    }
   ],
   "source": [
    "w = cp.Variable(n)\n",
    "gamma = cp.Parameter(nonneg=True)\n",
    "ret = mu.T @ w\n",
    "risk = cp.quad_form(w, Sigma) # w.T @ Sigma @ w\n",
    "prob = cp.Problem(cp.Maximize(ret - gamma * risk), [cp.sum(w) == 1, w >= 0])\n",
    "\n",
    "gamma.value = 1\n",
    "prob.solve()\n",
    "\n",
    "print(f'Status: {prob.solution.status}')\n",
    "print(f'Optimal allocation:', w.value)"
   ]
  },
  {
   "cell_type": "code",
   "execution_count": null,
   "metadata": {},
   "outputs": [
    {
     "name": "stdout",
     "output_type": "stream",
     "text": [
      "Status: optimal\n",
      "Optimal allocation: [-0.04096586 -0.1705072   0.1         0.23755978  0.21391199  0.41460558\n",
      "  0.13909955 -0.09096296  0.1197822   0.0774769 ]\n"
     ]
    }
   ],
   "source": [
    "w = cp.Variable(n)\n",
    "gamma = cp.Parameter(nonneg=True)\n",
    "ret = mu.T @ w\n",
    "risk = cp.quad_form(w, Sigma) # w.T @ Sigma @ w\n",
    "\n",
    "########################\n",
    "kappa = cp.Parameter(nonneg=True)\n",
    "c = 0.1 * numpy.ones(n)\n",
    "w0 = numpy.ones(n) / n\n",
    "cost = c.T @ cp.abs(w - w0)\n",
    "########################\n",
    "\n",
    "prob = cp.Problem(cp.Maximize(ret - gamma * risk - kappa * cost), [cp.sum(w) == 1])\n",
    "\n",
    "gamma.value = 1\n",
    "kappa.value = 0.5\n",
    "prob.solve()\n",
    "\n",
    "print(f'Status: {prob.solution.status}')\n",
    "print(f'Optimal allocation:', w.value)"
   ]
  },
  {
   "attachments": {},
   "cell_type": "markdown",
   "metadata": {},
   "source": [
    "Other questions to touch:\n",
    "1. Where to take mu from?\n",
    "2. Where to take Sigma from?\n",
    "3. Other more involved constraints"
   ]
  }
 ],
 "metadata": {
  "kernelspec": {
   "display_name": ".venv",
   "language": "python",
   "name": "python3"
  },
  "language_info": {
   "codemirror_mode": {
    "name": "ipython",
    "version": 3
   },
   "file_extension": ".py",
   "mimetype": "text/x-python",
   "name": "python",
   "nbconvert_exporter": "python",
   "pygments_lexer": "ipython3",
   "version": "3.11.0"
  },
  "orig_nbformat": 4,
  "vscode": {
   "interpreter": {
    "hash": "c987daa5422b2a59ae5f3a1cff0fb8a97f31c4497ae00d84bb36873856950388"
   }
  }
 },
 "nbformat": 4,
 "nbformat_minor": 2
}
